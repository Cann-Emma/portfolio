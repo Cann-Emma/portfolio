{
  "nbformat": 4,
  "nbformat_minor": 0,
  "metadata": {
    "colab": {
      "provenance": [],
      "authorship_tag": "ABX9TyN503x2FkxnleXrurhH9xrd",
      "include_colab_link": true
    },
    "kernelspec": {
      "name": "ir",
      "display_name": "R"
    },
    "language_info": {
      "name": "R"
    }
  },
  "cells": [
    {
      "cell_type": "markdown",
      "metadata": {
        "id": "view-in-github",
        "colab_type": "text"
      },
      "source": [
        "<a href=\"https://colab.research.google.com/github/Cann-Emma/portfolio/blob/main/ANOVA_SAT_Score_by_NYCBorough.ipynb\" target=\"_parent\"><img src=\"https://colab.research.google.com/assets/colab-badge.svg\" alt=\"Open In Colab\"/></a>"
      ]
    },
    {
      "cell_type": "markdown",
      "source": [
        "##PACKAGES"
      ],
      "metadata": {
        "id": "Sbsd_RHvDy31"
      }
    },
    {
      "cell_type": "code",
      "source": [
        "install.packages('psych')\n",
        "library(psych)\n",
        "install.packages('car')\n",
        "library(car)\n",
        "install.packages('pwr')\n",
        "library(pwr)"
      ],
      "metadata": {
        "id": "HF1HrTozL1Hr"
      },
      "execution_count": null,
      "outputs": []
    },
    {
      "cell_type": "code",
      "source": [
        "library(tidyverse)\n",
        "library(ggplot2)"
      ],
      "metadata": {
        "id": "bADupDQDMgAh"
      },
      "execution_count": null,
      "outputs": []
    },
    {
      "cell_type": "code",
      "execution_count": 1,
      "metadata": {
        "id": "drPZuNJULe1S"
      },
      "outputs": [],
      "source": [
        "nyc_schools= read.csv('schools.csv')"
      ]
    },
    {
      "cell_type": "code",
      "source": [
        "glimpse(nyc_schools)\n",
        "unique(nyc_schools)"
      ],
      "metadata": {
        "id": "3PVlEafTN9BL"
      },
      "execution_count": null,
      "outputs": []
    },
    {
      "cell_type": "markdown",
      "source": [
        "## EXPLORATORY ANALYSIS"
      ],
      "metadata": {
        "id": "xgjV7np5DotI"
      }
    },
    {
      "cell_type": "code",
      "source": [
        "head(nyc_schools, 4)"
      ],
      "metadata": {
        "colab": {
          "base_uri": "https://localhost:8080/",
          "height": 223
        },
        "id": "34zt_ORCO0HK",
        "outputId": "6107126f-81c6-40af-9e9d-828c87c77d70"
      },
      "execution_count": 11,
      "outputs": [
        {
          "output_type": "display_data",
          "data": {
            "text/html": [
              "<table class=\"dataframe\">\n",
              "<caption>A data.frame: 4 × 7</caption>\n",
              "<thead>\n",
              "\t<tr><th></th><th scope=col>school_name</th><th scope=col>borough</th><th scope=col>building_code</th><th scope=col>average_math</th><th scope=col>average_reading</th><th scope=col>average_writing</th><th scope=col>percent_tested</th></tr>\n",
              "\t<tr><th></th><th scope=col>&lt;chr&gt;</th><th scope=col>&lt;chr&gt;</th><th scope=col>&lt;chr&gt;</th><th scope=col>&lt;int&gt;</th><th scope=col>&lt;int&gt;</th><th scope=col>&lt;int&gt;</th><th scope=col>&lt;dbl&gt;</th></tr>\n",
              "</thead>\n",
              "<tbody>\n",
              "\t<tr><th scope=row>1</th><td>New Explorations into Science, Technology and Math High School</td><td>Manhattan</td><td>M022</td><td>657</td><td>601</td><td>601</td><td>  NA</td></tr>\n",
              "\t<tr><th scope=row>2</th><td>Essex Street Academy                                          </td><td>Manhattan</td><td>M445</td><td>395</td><td>411</td><td>387</td><td>78.9</td></tr>\n",
              "\t<tr><th scope=row>3</th><td>Lower Manhattan Arts Academy                                  </td><td>Manhattan</td><td>M445</td><td>418</td><td>428</td><td>415</td><td>65.1</td></tr>\n",
              "\t<tr><th scope=row>4</th><td>High School for Dual Language and Asian Studies               </td><td>Manhattan</td><td>M445</td><td>613</td><td>453</td><td>463</td><td>95.9</td></tr>\n",
              "</tbody>\n",
              "</table>\n"
            ],
            "text/markdown": "\nA data.frame: 4 × 7\n\n| <!--/--> | school_name &lt;chr&gt; | borough &lt;chr&gt; | building_code &lt;chr&gt; | average_math &lt;int&gt; | average_reading &lt;int&gt; | average_writing &lt;int&gt; | percent_tested &lt;dbl&gt; |\n|---|---|---|---|---|---|---|---|\n| 1 | New Explorations into Science, Technology and Math High School | Manhattan | M022 | 657 | 601 | 601 |   NA |\n| 2 | Essex Street Academy                                           | Manhattan | M445 | 395 | 411 | 387 | 78.9 |\n| 3 | Lower Manhattan Arts Academy                                   | Manhattan | M445 | 418 | 428 | 415 | 65.1 |\n| 4 | High School for Dual Language and Asian Studies                | Manhattan | M445 | 613 | 453 | 463 | 95.9 |\n\n",
            "text/latex": "A data.frame: 4 × 7\n\\begin{tabular}{r|lllllll}\n  & school\\_name & borough & building\\_code & average\\_math & average\\_reading & average\\_writing & percent\\_tested\\\\\n  & <chr> & <chr> & <chr> & <int> & <int> & <int> & <dbl>\\\\\n\\hline\n\t1 & New Explorations into Science, Technology and Math High School & Manhattan & M022 & 657 & 601 & 601 &   NA\\\\\n\t2 & Essex Street Academy                                           & Manhattan & M445 & 395 & 411 & 387 & 78.9\\\\\n\t3 & Lower Manhattan Arts Academy                                   & Manhattan & M445 & 418 & 428 & 415 & 65.1\\\\\n\t4 & High School for Dual Language and Asian Studies                & Manhattan & M445 & 613 & 453 & 463 & 95.9\\\\\n\\end{tabular}\n",
            "text/plain": [
              "  school_name                                                    borough  \n",
              "1 New Explorations into Science, Technology and Math High School Manhattan\n",
              "2 Essex Street Academy                                           Manhattan\n",
              "3 Lower Manhattan Arts Academy                                   Manhattan\n",
              "4 High School for Dual Language and Asian Studies                Manhattan\n",
              "  building_code average_math average_reading average_writing percent_tested\n",
              "1 M022          657          601             601               NA          \n",
              "2 M445          395          411             387             78.9          \n",
              "3 M445          418          428             415             65.1          \n",
              "4 M445          613          453             463             95.9          "
            ]
          },
          "metadata": {}
        }
      ]
    },
    {
      "cell_type": "code",
      "source": [
        "describe(nyc_schools)"
      ],
      "metadata": {
        "colab": {
          "base_uri": "https://localhost:8080/",
          "height": 317
        },
        "id": "drk61h13Q8wn",
        "outputId": "a88db3c0-c70e-4667-93f5-2c0ac48a2a61"
      },
      "execution_count": 13,
      "outputs": [
        {
          "output_type": "display_data",
          "data": {
            "text/html": [
              "<table class=\"dataframe\">\n",
              "<caption>A psych: 7 × 13</caption>\n",
              "<thead>\n",
              "\t<tr><th></th><th scope=col>vars</th><th scope=col>n</th><th scope=col>mean</th><th scope=col>sd</th><th scope=col>median</th><th scope=col>trimmed</th><th scope=col>mad</th><th scope=col>min</th><th scope=col>max</th><th scope=col>range</th><th scope=col>skew</th><th scope=col>kurtosis</th><th scope=col>se</th></tr>\n",
              "\t<tr><th></th><th scope=col>&lt;int&gt;</th><th scope=col>&lt;dbl&gt;</th><th scope=col>&lt;dbl&gt;</th><th scope=col>&lt;dbl&gt;</th><th scope=col>&lt;dbl&gt;</th><th scope=col>&lt;dbl&gt;</th><th scope=col>&lt;dbl&gt;</th><th scope=col>&lt;dbl&gt;</th><th scope=col>&lt;dbl&gt;</th><th scope=col>&lt;dbl&gt;</th><th scope=col>&lt;dbl&gt;</th><th scope=col>&lt;dbl&gt;</th><th scope=col>&lt;dbl&gt;</th></tr>\n",
              "</thead>\n",
              "<tbody>\n",
              "\t<tr><th scope=row>school_name*</th><td>1</td><td>375</td><td>188.00000</td><td>108.397417</td><td>188.0</td><td>188.000000</td><td>139.36440</td><td>  1.0</td><td>375</td><td>374.0</td><td> 0.00000000</td><td>-1.2096042</td><td>5.5976185</td></tr>\n",
              "\t<tr><th scope=row>borough*</th><td>2</td><td>375</td><td>  2.42400</td><td>  1.139453</td><td>  2.0</td><td>  2.372093</td><td>  1.48260</td><td>  1.0</td><td>  5</td><td>  4.0</td><td> 0.30057485</td><td>-0.9715269</td><td>0.0588411</td></tr>\n",
              "\t<tr><th scope=row>building_code*</th><td>3</td><td>375</td><td>118.19467</td><td> 71.459101</td><td>112.0</td><td>118.352159</td><td> 99.33420</td><td>  1.0</td><td>233</td><td>232.0</td><td> 0.02286125</td><td>-1.3691180</td><td>3.6901321</td></tr>\n",
              "\t<tr><th scope=row>average_math</th><td>4</td><td>375</td><td>432.94400</td><td> 71.952373</td><td>415.0</td><td>421.644518</td><td> 48.92580</td><td>317.0</td><td>754</td><td>437.0</td><td> 1.71118989</td><td> 3.3770099</td><td>3.7156045</td></tr>\n",
              "\t<tr><th scope=row>average_reading</th><td>5</td><td>375</td><td>424.50400</td><td> 61.881069</td><td>413.0</td><td>416.252492</td><td> 41.51280</td><td>302.0</td><td>697</td><td>395.0</td><td> 1.61755598</td><td> 3.5499180</td><td>3.1955247</td></tr>\n",
              "\t<tr><th scope=row>average_writing</th><td>6</td><td>375</td><td>418.45867</td><td> 64.548599</td><td>403.0</td><td>409.425249</td><td> 35.58240</td><td>284.0</td><td>693</td><td>409.0</td><td> 1.66988656</td><td> 3.6666681</td><td>3.3332753</td></tr>\n",
              "\t<tr><th scope=row>percent_tested</th><td>7</td><td>355</td><td> 64.97634</td><td> 18.747634</td><td> 64.8</td><td> 65.189474</td><td> 21.20118</td><td> 18.5</td><td>100</td><td> 81.5</td><td>-0.08736937</td><td>-0.8203423</td><td>0.9950211</td></tr>\n",
              "</tbody>\n",
              "</table>\n"
            ],
            "text/markdown": "\nA psych: 7 × 13\n\n| <!--/--> | vars &lt;int&gt; | n &lt;dbl&gt; | mean &lt;dbl&gt; | sd &lt;dbl&gt; | median &lt;dbl&gt; | trimmed &lt;dbl&gt; | mad &lt;dbl&gt; | min &lt;dbl&gt; | max &lt;dbl&gt; | range &lt;dbl&gt; | skew &lt;dbl&gt; | kurtosis &lt;dbl&gt; | se &lt;dbl&gt; |\n|---|---|---|---|---|---|---|---|---|---|---|---|---|---|\n| school_name* | 1 | 375 | 188.00000 | 108.397417 | 188.0 | 188.000000 | 139.36440 |   1.0 | 375 | 374.0 |  0.00000000 | -1.2096042 | 5.5976185 |\n| borough* | 2 | 375 |   2.42400 |   1.139453 |   2.0 |   2.372093 |   1.48260 |   1.0 |   5 |   4.0 |  0.30057485 | -0.9715269 | 0.0588411 |\n| building_code* | 3 | 375 | 118.19467 |  71.459101 | 112.0 | 118.352159 |  99.33420 |   1.0 | 233 | 232.0 |  0.02286125 | -1.3691180 | 3.6901321 |\n| average_math | 4 | 375 | 432.94400 |  71.952373 | 415.0 | 421.644518 |  48.92580 | 317.0 | 754 | 437.0 |  1.71118989 |  3.3770099 | 3.7156045 |\n| average_reading | 5 | 375 | 424.50400 |  61.881069 | 413.0 | 416.252492 |  41.51280 | 302.0 | 697 | 395.0 |  1.61755598 |  3.5499180 | 3.1955247 |\n| average_writing | 6 | 375 | 418.45867 |  64.548599 | 403.0 | 409.425249 |  35.58240 | 284.0 | 693 | 409.0 |  1.66988656 |  3.6666681 | 3.3332753 |\n| percent_tested | 7 | 355 |  64.97634 |  18.747634 |  64.8 |  65.189474 |  21.20118 |  18.5 | 100 |  81.5 | -0.08736937 | -0.8203423 | 0.9950211 |\n\n",
            "text/latex": "A psych: 7 × 13\n\\begin{tabular}{r|lllllllllllll}\n  & vars & n & mean & sd & median & trimmed & mad & min & max & range & skew & kurtosis & se\\\\\n  & <int> & <dbl> & <dbl> & <dbl> & <dbl> & <dbl> & <dbl> & <dbl> & <dbl> & <dbl> & <dbl> & <dbl> & <dbl>\\\\\n\\hline\n\tschool\\_name* & 1 & 375 & 188.00000 & 108.397417 & 188.0 & 188.000000 & 139.36440 &   1.0 & 375 & 374.0 &  0.00000000 & -1.2096042 & 5.5976185\\\\\n\tborough* & 2 & 375 &   2.42400 &   1.139453 &   2.0 &   2.372093 &   1.48260 &   1.0 &   5 &   4.0 &  0.30057485 & -0.9715269 & 0.0588411\\\\\n\tbuilding\\_code* & 3 & 375 & 118.19467 &  71.459101 & 112.0 & 118.352159 &  99.33420 &   1.0 & 233 & 232.0 &  0.02286125 & -1.3691180 & 3.6901321\\\\\n\taverage\\_math & 4 & 375 & 432.94400 &  71.952373 & 415.0 & 421.644518 &  48.92580 & 317.0 & 754 & 437.0 &  1.71118989 &  3.3770099 & 3.7156045\\\\\n\taverage\\_reading & 5 & 375 & 424.50400 &  61.881069 & 413.0 & 416.252492 &  41.51280 & 302.0 & 697 & 395.0 &  1.61755598 &  3.5499180 & 3.1955247\\\\\n\taverage\\_writing & 6 & 375 & 418.45867 &  64.548599 & 403.0 & 409.425249 &  35.58240 & 284.0 & 693 & 409.0 &  1.66988656 &  3.6666681 & 3.3332753\\\\\n\tpercent\\_tested & 7 & 355 &  64.97634 &  18.747634 &  64.8 &  65.189474 &  21.20118 &  18.5 & 100 &  81.5 & -0.08736937 & -0.8203423 & 0.9950211\\\\\n\\end{tabular}\n",
            "text/plain": [
              "                vars n   mean      sd         median trimmed    mad       min  \n",
              "school_name*    1    375 188.00000 108.397417 188.0  188.000000 139.36440   1.0\n",
              "borough*        2    375   2.42400   1.139453   2.0    2.372093   1.48260   1.0\n",
              "building_code*  3    375 118.19467  71.459101 112.0  118.352159  99.33420   1.0\n",
              "average_math    4    375 432.94400  71.952373 415.0  421.644518  48.92580 317.0\n",
              "average_reading 5    375 424.50400  61.881069 413.0  416.252492  41.51280 302.0\n",
              "average_writing 6    375 418.45867  64.548599 403.0  409.425249  35.58240 284.0\n",
              "percent_tested  7    355  64.97634  18.747634  64.8   65.189474  21.20118  18.5\n",
              "                max range skew        kurtosis   se       \n",
              "school_name*    375 374.0  0.00000000 -1.2096042 5.5976185\n",
              "borough*          5   4.0  0.30057485 -0.9715269 0.0588411\n",
              "building_code*  233 232.0  0.02286125 -1.3691180 3.6901321\n",
              "average_math    754 437.0  1.71118989  3.3770099 3.7156045\n",
              "average_reading 697 395.0  1.61755598  3.5499180 3.1955247\n",
              "average_writing 693 409.0  1.66988656  3.6666681 3.3332753\n",
              "percent_tested  100  81.5 -0.08736937 -0.8203423 0.9950211"
            ]
          },
          "metadata": {}
        }
      ]
    },
    {
      "cell_type": "code",
      "source": [
        "nyc_schools1= nyc_schools%>%mutate(total_SAT= (average_math + average_reading + average_writing))"
      ],
      "metadata": {
        "id": "GHqL3oMoQB8Z"
      },
      "execution_count": 19,
      "outputs": []
    },
    {
      "cell_type": "code",
      "source": [
        "nyc_schools1%>%group_by(borough)%>%summarise(avg_math= mean(average_math), avg_reading= mean(average_reading),avg_writing= mean(average_writing), avg_SAT= mean(total_SAT))"
      ],
      "metadata": {
        "colab": {
          "base_uri": "https://localhost:8080/",
          "height": 255
        },
        "id": "FHjV-GAJRD42",
        "outputId": "206094c8-037f-4932-bc63-d13cea47baa9"
      },
      "execution_count": 20,
      "outputs": [
        {
          "output_type": "display_data",
          "data": {
            "text/html": [
              "<table class=\"dataframe\">\n",
              "<caption>A tibble: 5 × 5</caption>\n",
              "<thead>\n",
              "\t<tr><th scope=col>borough</th><th scope=col>avg_math</th><th scope=col>avg_reading</th><th scope=col>avg_writing</th><th scope=col>avg_SAT</th></tr>\n",
              "\t<tr><th scope=col>&lt;chr&gt;</th><th scope=col>&lt;dbl&gt;</th><th scope=col>&lt;dbl&gt;</th><th scope=col>&lt;dbl&gt;</th><th scope=col>&lt;dbl&gt;</th></tr>\n",
              "</thead>\n",
              "<tbody>\n",
              "\t<tr><td>Bronx        </td><td>404.3571</td><td>402.5204</td><td>395.8469</td><td>1202.724</td></tr>\n",
              "\t<tr><td>Brooklyn     </td><td>416.4037</td><td>410.7615</td><td>403.0917</td><td>1230.257</td></tr>\n",
              "\t<tr><td>Manhattan    </td><td>455.8876</td><td>444.9326</td><td>439.3146</td><td>1340.135</td></tr>\n",
              "\t<tr><td>Queens       </td><td>462.3623</td><td>443.2609</td><td>439.8551</td><td>1345.478</td></tr>\n",
              "\t<tr><td>Staten Island</td><td>486.2000</td><td>478.5000</td><td>474.3000</td><td>1439.000</td></tr>\n",
              "</tbody>\n",
              "</table>\n"
            ],
            "text/markdown": "\nA tibble: 5 × 5\n\n| borough &lt;chr&gt; | avg_math &lt;dbl&gt; | avg_reading &lt;dbl&gt; | avg_writing &lt;dbl&gt; | avg_SAT &lt;dbl&gt; |\n|---|---|---|---|---|\n| Bronx         | 404.3571 | 402.5204 | 395.8469 | 1202.724 |\n| Brooklyn      | 416.4037 | 410.7615 | 403.0917 | 1230.257 |\n| Manhattan     | 455.8876 | 444.9326 | 439.3146 | 1340.135 |\n| Queens        | 462.3623 | 443.2609 | 439.8551 | 1345.478 |\n| Staten Island | 486.2000 | 478.5000 | 474.3000 | 1439.000 |\n\n",
            "text/latex": "A tibble: 5 × 5\n\\begin{tabular}{lllll}\n borough & avg\\_math & avg\\_reading & avg\\_writing & avg\\_SAT\\\\\n <chr> & <dbl> & <dbl> & <dbl> & <dbl>\\\\\n\\hline\n\t Bronx         & 404.3571 & 402.5204 & 395.8469 & 1202.724\\\\\n\t Brooklyn      & 416.4037 & 410.7615 & 403.0917 & 1230.257\\\\\n\t Manhattan     & 455.8876 & 444.9326 & 439.3146 & 1340.135\\\\\n\t Queens        & 462.3623 & 443.2609 & 439.8551 & 1345.478\\\\\n\t Staten Island & 486.2000 & 478.5000 & 474.3000 & 1439.000\\\\\n\\end{tabular}\n",
            "text/plain": [
              "  borough       avg_math avg_reading avg_writing avg_SAT \n",
              "1 Bronx         404.3571 402.5204    395.8469    1202.724\n",
              "2 Brooklyn      416.4037 410.7615    403.0917    1230.257\n",
              "3 Manhattan     455.8876 444.9326    439.3146    1340.135\n",
              "4 Queens        462.3623 443.2609    439.8551    1345.478\n",
              "5 Staten Island 486.2000 478.5000    474.3000    1439.000"
            ]
          },
          "metadata": {}
        }
      ]
    },
    {
      "cell_type": "markdown",
      "source": [
        "## PRE POWER ANALYSIS"
      ],
      "metadata": {
        "id": "GSihToe4k36e"
      }
    },
    {
      "cell_type": "code",
      "source": [
        "pwr.anova.test(k=4, n=NULL, sig.level=.05, f= sqrt(.06/(1-.06)), power=.80)"
      ],
      "metadata": {
        "colab": {
          "base_uri": "https://localhost:8080/",
          "height": 191
        },
        "id": "oRX6ZdplWPHr",
        "outputId": "b68e5283-23b0-486e-d747-29c7e83b70fd"
      },
      "execution_count": 34,
      "outputs": [
        {
          "output_type": "display_data",
          "data": {
            "text/plain": [
              "\n",
              "     Balanced one-way analysis of variance power calculation \n",
              "\n",
              "              k = 4\n",
              "              n = 43.69098\n",
              "              f = 0.2526456\n",
              "      sig.level = 0.05\n",
              "          power = 0.8\n",
              "\n",
              "NOTE: n is number in each group\n"
            ]
          },
          "metadata": {}
        }
      ]
    },
    {
      "cell_type": "markdown",
      "source": [
        "## DATA PREPARATION"
      ],
      "metadata": {
        "id": "EgBEVChtZfB4"
      }
    },
    {
      "cell_type": "code",
      "source": [
        "Bronx= nyc_schools1%>%select(borough, total_SAT)%>%filter(borough== 'Bronx')%>%slice(1:60)\n",
        "Brooklyn= nyc_schools1%>%select(borough, total_SAT)%>%filter(borough== 'Brooklyn')%>%slice(1:60)\n",
        "Queens= nyc_schools1%>%select(borough, total_SAT)%>%filter(borough== 'Queens')%>%slice(1:60)\n",
        "Manhattan= nyc_schools1%>%select(borough, total_SAT)%>%filter(borough== 'Manhattan')%>%slice(1:60)"
      ],
      "metadata": {
        "id": "pAY3oL43ZvKQ"
      },
      "execution_count": 90,
      "outputs": []
    },
    {
      "cell_type": "code",
      "source": [
        "# Wide Dat\n",
        "scores_wide= data.frame(Bronx= Bronx, Brooklyn= Brooklyn, Queens= Queens, Manhattan= Manhattan)\n",
        "head(scores_wide,4)"
      ],
      "metadata": {
        "colab": {
          "base_uri": "https://localhost:8080/",
          "height": 223
        },
        "id": "vzuwzqRxU9tR",
        "outputId": "8c086e9b-b467-4098-c4b6-3c42c9ad0566"
      },
      "execution_count": 91,
      "outputs": [
        {
          "output_type": "display_data",
          "data": {
            "text/html": [
              "<table class=\"dataframe\">\n",
              "<caption>A data.frame: 4 × 8</caption>\n",
              "<thead>\n",
              "\t<tr><th></th><th scope=col>Bronx.borough</th><th scope=col>Bronx.total_SAT</th><th scope=col>Brooklyn.borough</th><th scope=col>Brooklyn.total_SAT</th><th scope=col>Queens.borough</th><th scope=col>Queens.total_SAT</th><th scope=col>Manhattan.borough</th><th scope=col>Manhattan.total_SAT</th></tr>\n",
              "\t<tr><th></th><th scope=col>&lt;chr&gt;</th><th scope=col>&lt;int&gt;</th><th scope=col>&lt;chr&gt;</th><th scope=col>&lt;int&gt;</th><th scope=col>&lt;chr&gt;</th><th scope=col>&lt;int&gt;</th><th scope=col>&lt;chr&gt;</th><th scope=col>&lt;int&gt;</th></tr>\n",
              "</thead>\n",
              "<tbody>\n",
              "\t<tr><th scope=row>1</th><td>Bronx</td><td>1164</td><td>Brooklyn</td><td>1182</td><td>Queens</td><td>1335</td><td>Manhattan</td><td>1859</td></tr>\n",
              "\t<tr><th scope=row>2</th><td>Bronx</td><td>1227</td><td>Brooklyn</td><td>1099</td><td>Queens</td><td>1313</td><td>Manhattan</td><td>1193</td></tr>\n",
              "\t<tr><th scope=row>3</th><td>Bronx</td><td>1202</td><td>Brooklyn</td><td>1217</td><td>Queens</td><td>1143</td><td>Manhattan</td><td>1261</td></tr>\n",
              "\t<tr><th scope=row>4</th><td>Bronx</td><td>1100</td><td>Brooklyn</td><td>1176</td><td>Queens</td><td>1346</td><td>Manhattan</td><td>1529</td></tr>\n",
              "</tbody>\n",
              "</table>\n"
            ],
            "text/markdown": "\nA data.frame: 4 × 8\n\n| <!--/--> | Bronx.borough &lt;chr&gt; | Bronx.total_SAT &lt;int&gt; | Brooklyn.borough &lt;chr&gt; | Brooklyn.total_SAT &lt;int&gt; | Queens.borough &lt;chr&gt; | Queens.total_SAT &lt;int&gt; | Manhattan.borough &lt;chr&gt; | Manhattan.total_SAT &lt;int&gt; |\n|---|---|---|---|---|---|---|---|---|\n| 1 | Bronx | 1164 | Brooklyn | 1182 | Queens | 1335 | Manhattan | 1859 |\n| 2 | Bronx | 1227 | Brooklyn | 1099 | Queens | 1313 | Manhattan | 1193 |\n| 3 | Bronx | 1202 | Brooklyn | 1217 | Queens | 1143 | Manhattan | 1261 |\n| 4 | Bronx | 1100 | Brooklyn | 1176 | Queens | 1346 | Manhattan | 1529 |\n\n",
            "text/latex": "A data.frame: 4 × 8\n\\begin{tabular}{r|llllllll}\n  & Bronx.borough & Bronx.total\\_SAT & Brooklyn.borough & Brooklyn.total\\_SAT & Queens.borough & Queens.total\\_SAT & Manhattan.borough & Manhattan.total\\_SAT\\\\\n  & <chr> & <int> & <chr> & <int> & <chr> & <int> & <chr> & <int>\\\\\n\\hline\n\t1 & Bronx & 1164 & Brooklyn & 1182 & Queens & 1335 & Manhattan & 1859\\\\\n\t2 & Bronx & 1227 & Brooklyn & 1099 & Queens & 1313 & Manhattan & 1193\\\\\n\t3 & Bronx & 1202 & Brooklyn & 1217 & Queens & 1143 & Manhattan & 1261\\\\\n\t4 & Bronx & 1100 & Brooklyn & 1176 & Queens & 1346 & Manhattan & 1529\\\\\n\\end{tabular}\n",
            "text/plain": [
              "  Bronx.borough Bronx.total_SAT Brooklyn.borough Brooklyn.total_SAT\n",
              "1 Bronx         1164            Brooklyn         1182              \n",
              "2 Bronx         1227            Brooklyn         1099              \n",
              "3 Bronx         1202            Brooklyn         1217              \n",
              "4 Bronx         1100            Brooklyn         1176              \n",
              "  Queens.borough Queens.total_SAT Manhattan.borough Manhattan.total_SAT\n",
              "1 Queens         1335             Manhattan         1859               \n",
              "2 Queens         1313             Manhattan         1193               \n",
              "3 Queens         1143             Manhattan         1261               \n",
              "4 Queens         1346             Manhattan         1529               "
            ]
          },
          "metadata": {}
        }
      ]
    },
    {
      "cell_type": "code",
      "source": [
        "# Long Dat\n",
        "scores_long= data.frame(Borough= c(Bronx$borough, Brooklyn$borough, Manhattan$borough, Queens$borough), total_SAT= c(Bronx$total_SAT, Brooklyn$total_SAT, Manhattan$total_SAT, Queens$total_SAT))"
      ],
      "metadata": {
        "id": "22W3mejBeyuH"
      },
      "execution_count": 92,
      "outputs": []
    },
    {
      "cell_type": "markdown",
      "source": [
        "## DESCRIPTIVE STATISTICS"
      ],
      "metadata": {
        "id": "NszUht4tlEp5"
      }
    },
    {
      "cell_type": "code",
      "source": [
        "summary(scores_wide)"
      ],
      "metadata": {
        "colab": {
          "base_uri": "https://localhost:8080/",
          "height": 260
        },
        "id": "qg07PLXOhpkO",
        "outputId": "7ea9b76c-7fdf-4436-c437-7c7d9af282e0"
      },
      "execution_count": 93,
      "outputs": [
        {
          "output_type": "display_data",
          "data": {
            "text/plain": [
              " Bronx.borough      Bronx.total_SAT Brooklyn.borough   Brooklyn.total_SAT\n",
              " Length:60          Min.   : 995    Length:60          Min.   : 926      \n",
              " Class :character   1st Qu.:1128    Class :character   1st Qu.:1127      \n",
              " Mode  :character   Median :1167    Mode  :character   Median :1182      \n",
              "                    Mean   :1178                       Mean   :1211      \n",
              "                    3rd Qu.:1228                       3rd Qu.:1268      \n",
              "                    Max.   :1466                       Max.   :1804      \n",
              " Queens.borough     Queens.total_SAT Manhattan.borough  Manhattan.total_SAT\n",
              " Length:60          Min.   : 978     Length:60          Min.   :1005       \n",
              " Class :character   1st Qu.:1237     Class :character   1st Qu.:1174       \n",
              " Mode  :character   Median :1314     Mode  :character   Median :1274       \n",
              "                    Mean   :1360                        Mean   :1349       \n",
              "                    3rd Qu.:1436                        3rd Qu.:1516       \n",
              "                    Max.   :1981                        Max.   :1914       "
            ]
          },
          "metadata": {}
        }
      ]
    },
    {
      "cell_type": "code",
      "source": [
        "describe(scores_wide)"
      ],
      "metadata": {
        "colab": {
          "base_uri": "https://localhost:8080/",
          "height": 349
        },
        "id": "7fj839N7lRFE",
        "outputId": "e230e32d-11d4-4121-a7b0-a993da26f028"
      },
      "execution_count": 94,
      "outputs": [
        {
          "output_type": "display_data",
          "data": {
            "text/html": [
              "<table class=\"dataframe\">\n",
              "<caption>A psych: 8 × 13</caption>\n",
              "<thead>\n",
              "\t<tr><th></th><th scope=col>vars</th><th scope=col>n</th><th scope=col>mean</th><th scope=col>sd</th><th scope=col>median</th><th scope=col>trimmed</th><th scope=col>mad</th><th scope=col>min</th><th scope=col>max</th><th scope=col>range</th><th scope=col>skew</th><th scope=col>kurtosis</th><th scope=col>se</th></tr>\n",
              "\t<tr><th></th><th scope=col>&lt;int&gt;</th><th scope=col>&lt;dbl&gt;</th><th scope=col>&lt;dbl&gt;</th><th scope=col>&lt;dbl&gt;</th><th scope=col>&lt;dbl&gt;</th><th scope=col>&lt;dbl&gt;</th><th scope=col>&lt;dbl&gt;</th><th scope=col>&lt;dbl&gt;</th><th scope=col>&lt;dbl&gt;</th><th scope=col>&lt;dbl&gt;</th><th scope=col>&lt;dbl&gt;</th><th scope=col>&lt;dbl&gt;</th><th scope=col>&lt;dbl&gt;</th></tr>\n",
              "</thead>\n",
              "<tbody>\n",
              "\t<tr><th scope=row>Bronx.borough*</th><td>1</td><td>60</td><td>   1.000</td><td>  0.00000</td><td>   1.0</td><td>   1.000</td><td>  0.0000</td><td>   1</td><td>   1</td><td>   0</td><td>      NaN</td><td>       NaN</td><td> 0.00000</td></tr>\n",
              "\t<tr><th scope=row>Bronx.total_SAT</th><td>2</td><td>60</td><td>1177.800</td><td> 80.25337</td><td>1167.0</td><td>1176.271</td><td> 70.4235</td><td> 995</td><td>1466</td><td> 471</td><td>0.5183569</td><td> 1.6642442</td><td>10.36067</td></tr>\n",
              "\t<tr><th scope=row>Brooklyn.borough*</th><td>3</td><td>60</td><td>   1.000</td><td>  0.00000</td><td>   1.0</td><td>   1.000</td><td>  0.0000</td><td>   1</td><td>   1</td><td>   0</td><td>      NaN</td><td>       NaN</td><td> 0.00000</td></tr>\n",
              "\t<tr><th scope=row>Brooklyn.total_SAT</th><td>4</td><td>60</td><td>1211.217</td><td>138.88577</td><td>1181.5</td><td>1196.146</td><td> 90.4386</td><td> 926</td><td>1804</td><td> 878</td><td>1.5616389</td><td> 4.2765593</td><td>17.93008</td></tr>\n",
              "\t<tr><th scope=row>Queens.borough*</th><td>5</td><td>60</td><td>   1.000</td><td>  0.00000</td><td>   1.0</td><td>   1.000</td><td>  0.0000</td><td>   1</td><td>   1</td><td>   0</td><td>      NaN</td><td>       NaN</td><td> 0.00000</td></tr>\n",
              "\t<tr><th scope=row>Queens.total_SAT</th><td>6</td><td>60</td><td>1359.783</td><td>193.57179</td><td>1313.5</td><td>1332.583</td><td>151.2252</td><td> 978</td><td>1981</td><td>1003</td><td>1.3870657</td><td> 2.2351223</td><td>24.99001</td></tr>\n",
              "\t<tr><th scope=row>Manhattan.borough*</th><td>7</td><td>60</td><td>   1.000</td><td>  0.00000</td><td>   1.0</td><td>   1.000</td><td>  0.0000</td><td>   1</td><td>   1</td><td>   0</td><td>      NaN</td><td>       NaN</td><td> 0.00000</td></tr>\n",
              "\t<tr><th scope=row>Manhattan.total_SAT</th><td>8</td><td>60</td><td>1348.683</td><td>230.12889</td><td>1274.5</td><td>1323.625</td><td>170.4990</td><td>1005</td><td>1914</td><td> 909</td><td>0.8790469</td><td>-0.3224032</td><td>29.70951</td></tr>\n",
              "</tbody>\n",
              "</table>\n"
            ],
            "text/markdown": "\nA psych: 8 × 13\n\n| <!--/--> | vars &lt;int&gt; | n &lt;dbl&gt; | mean &lt;dbl&gt; | sd &lt;dbl&gt; | median &lt;dbl&gt; | trimmed &lt;dbl&gt; | mad &lt;dbl&gt; | min &lt;dbl&gt; | max &lt;dbl&gt; | range &lt;dbl&gt; | skew &lt;dbl&gt; | kurtosis &lt;dbl&gt; | se &lt;dbl&gt; |\n|---|---|---|---|---|---|---|---|---|---|---|---|---|---|\n| Bronx.borough* | 1 | 60 |    1.000 |   0.00000 |    1.0 |    1.000 |   0.0000 |    1 |    1 |    0 |       NaN |        NaN |  0.00000 |\n| Bronx.total_SAT | 2 | 60 | 1177.800 |  80.25337 | 1167.0 | 1176.271 |  70.4235 |  995 | 1466 |  471 | 0.5183569 |  1.6642442 | 10.36067 |\n| Brooklyn.borough* | 3 | 60 |    1.000 |   0.00000 |    1.0 |    1.000 |   0.0000 |    1 |    1 |    0 |       NaN |        NaN |  0.00000 |\n| Brooklyn.total_SAT | 4 | 60 | 1211.217 | 138.88577 | 1181.5 | 1196.146 |  90.4386 |  926 | 1804 |  878 | 1.5616389 |  4.2765593 | 17.93008 |\n| Queens.borough* | 5 | 60 |    1.000 |   0.00000 |    1.0 |    1.000 |   0.0000 |    1 |    1 |    0 |       NaN |        NaN |  0.00000 |\n| Queens.total_SAT | 6 | 60 | 1359.783 | 193.57179 | 1313.5 | 1332.583 | 151.2252 |  978 | 1981 | 1003 | 1.3870657 |  2.2351223 | 24.99001 |\n| Manhattan.borough* | 7 | 60 |    1.000 |   0.00000 |    1.0 |    1.000 |   0.0000 |    1 |    1 |    0 |       NaN |        NaN |  0.00000 |\n| Manhattan.total_SAT | 8 | 60 | 1348.683 | 230.12889 | 1274.5 | 1323.625 | 170.4990 | 1005 | 1914 |  909 | 0.8790469 | -0.3224032 | 29.70951 |\n\n",
            "text/latex": "A psych: 8 × 13\n\\begin{tabular}{r|lllllllllllll}\n  & vars & n & mean & sd & median & trimmed & mad & min & max & range & skew & kurtosis & se\\\\\n  & <int> & <dbl> & <dbl> & <dbl> & <dbl> & <dbl> & <dbl> & <dbl> & <dbl> & <dbl> & <dbl> & <dbl> & <dbl>\\\\\n\\hline\n\tBronx.borough* & 1 & 60 &    1.000 &   0.00000 &    1.0 &    1.000 &   0.0000 &    1 &    1 &    0 &       NaN &        NaN &  0.00000\\\\\n\tBronx.total\\_SAT & 2 & 60 & 1177.800 &  80.25337 & 1167.0 & 1176.271 &  70.4235 &  995 & 1466 &  471 & 0.5183569 &  1.6642442 & 10.36067\\\\\n\tBrooklyn.borough* & 3 & 60 &    1.000 &   0.00000 &    1.0 &    1.000 &   0.0000 &    1 &    1 &    0 &       NaN &        NaN &  0.00000\\\\\n\tBrooklyn.total\\_SAT & 4 & 60 & 1211.217 & 138.88577 & 1181.5 & 1196.146 &  90.4386 &  926 & 1804 &  878 & 1.5616389 &  4.2765593 & 17.93008\\\\\n\tQueens.borough* & 5 & 60 &    1.000 &   0.00000 &    1.0 &    1.000 &   0.0000 &    1 &    1 &    0 &       NaN &        NaN &  0.00000\\\\\n\tQueens.total\\_SAT & 6 & 60 & 1359.783 & 193.57179 & 1313.5 & 1332.583 & 151.2252 &  978 & 1981 & 1003 & 1.3870657 &  2.2351223 & 24.99001\\\\\n\tManhattan.borough* & 7 & 60 &    1.000 &   0.00000 &    1.0 &    1.000 &   0.0000 &    1 &    1 &    0 &       NaN &        NaN &  0.00000\\\\\n\tManhattan.total\\_SAT & 8 & 60 & 1348.683 & 230.12889 & 1274.5 & 1323.625 & 170.4990 & 1005 & 1914 &  909 & 0.8790469 & -0.3224032 & 29.70951\\\\\n\\end{tabular}\n",
            "text/plain": [
              "                    vars n  mean     sd        median trimmed  mad      min \n",
              "Bronx.borough*      1    60    1.000   0.00000    1.0    1.000   0.0000    1\n",
              "Bronx.total_SAT     2    60 1177.800  80.25337 1167.0 1176.271  70.4235  995\n",
              "Brooklyn.borough*   3    60    1.000   0.00000    1.0    1.000   0.0000    1\n",
              "Brooklyn.total_SAT  4    60 1211.217 138.88577 1181.5 1196.146  90.4386  926\n",
              "Queens.borough*     5    60    1.000   0.00000    1.0    1.000   0.0000    1\n",
              "Queens.total_SAT    6    60 1359.783 193.57179 1313.5 1332.583 151.2252  978\n",
              "Manhattan.borough*  7    60    1.000   0.00000    1.0    1.000   0.0000    1\n",
              "Manhattan.total_SAT 8    60 1348.683 230.12889 1274.5 1323.625 170.4990 1005\n",
              "                    max  range skew      kurtosis   se      \n",
              "Bronx.borough*         1    0        NaN        NaN  0.00000\n",
              "Bronx.total_SAT     1466  471  0.5183569  1.6642442 10.36067\n",
              "Brooklyn.borough*      1    0        NaN        NaN  0.00000\n",
              "Brooklyn.total_SAT  1804  878  1.5616389  4.2765593 17.93008\n",
              "Queens.borough*        1    0        NaN        NaN  0.00000\n",
              "Queens.total_SAT    1981 1003  1.3870657  2.2351223 24.99001\n",
              "Manhattan.borough*     1    0        NaN        NaN  0.00000\n",
              "Manhattan.total_SAT 1914  909  0.8790469 -0.3224032 29.70951"
            ]
          },
          "metadata": {}
        }
      ]
    },
    {
      "cell_type": "markdown",
      "source": [
        "## STATISTICAL ASSUMPTIONS"
      ],
      "metadata": {
        "id": "pL2iIp9yjWb4"
      }
    },
    {
      "cell_type": "code",
      "source": [
        "shapiro.test(scores_wide$Manhattan.total_SAT)"
      ],
      "metadata": {
        "colab": {
          "base_uri": "https://localhost:8080/",
          "height": 104
        },
        "id": "wABQFCffiMBK",
        "outputId": "447d4c16-e9fd-432b-f6a5-866de3bb8162"
      },
      "execution_count": 95,
      "outputs": [
        {
          "output_type": "display_data",
          "data": {
            "text/plain": [
              "\n",
              "\tShapiro-Wilk normality test\n",
              "\n",
              "data:  scores_wide$Manhattan.total_SAT\n",
              "W = 0.89489, p-value = 8.615e-05\n"
            ]
          },
          "metadata": {}
        }
      ]
    },
    {
      "cell_type": "code",
      "source": [
        "shapiro.test(scores_wide$Brooklyn.total_SAT)"
      ],
      "metadata": {
        "colab": {
          "base_uri": "https://localhost:8080/",
          "height": 104
        },
        "id": "f_Gti386jAKa",
        "outputId": "f89cafc9-b2c4-4e86-ea1a-36f5434b41e2"
      },
      "execution_count": 96,
      "outputs": [
        {
          "output_type": "display_data",
          "data": {
            "text/plain": [
              "\n",
              "\tShapiro-Wilk normality test\n",
              "\n",
              "data:  scores_wide$Brooklyn.total_SAT\n",
              "W = 0.87799, p-value = 2.272e-05\n"
            ]
          },
          "metadata": {}
        }
      ]
    },
    {
      "cell_type": "code",
      "source": [
        "shapiro.test(scores_wide$Bronx.total_SAT)"
      ],
      "metadata": {
        "colab": {
          "base_uri": "https://localhost:8080/",
          "height": 104
        },
        "id": "lctr-MI6jIOd",
        "outputId": "75ddc1ef-c039-4cf3-a624-8f29ef26b597"
      },
      "execution_count": 97,
      "outputs": [
        {
          "output_type": "display_data",
          "data": {
            "text/plain": [
              "\n",
              "\tShapiro-Wilk normality test\n",
              "\n",
              "data:  scores_wide$Bronx.total_SAT\n",
              "W = 0.96593, p-value = 0.09199\n"
            ]
          },
          "metadata": {}
        }
      ]
    },
    {
      "cell_type": "code",
      "source": [
        "shapiro.test(scores_wide$Queens.total_SAT)"
      ],
      "metadata": {
        "colab": {
          "base_uri": "https://localhost:8080/",
          "height": 104
        },
        "id": "OAKekKRMjOcN",
        "outputId": "bc8a4c17-e289-4106-b40d-04ad845ef173"
      },
      "execution_count": 98,
      "outputs": [
        {
          "output_type": "display_data",
          "data": {
            "text/plain": [
              "\n",
              "\tShapiro-Wilk normality test\n",
              "\n",
              "data:  scores_wide$Queens.total_SAT\n",
              "W = 0.87322, p-value = 1.587e-05\n"
            ]
          },
          "metadata": {}
        }
      ]
    },
    {
      "cell_type": "code",
      "source": [
        "leveneTest(y= total_SAT~Borough,data=scores_long)"
      ],
      "metadata": {
        "colab": {
          "base_uri": "https://localhost:8080/",
          "height": 195
        },
        "id": "LU-rjopKjm6w",
        "outputId": "bc5882b9-fb98-473b-bfed-e514bf37e5da"
      },
      "execution_count": 99,
      "outputs": [
        {
          "output_type": "stream",
          "name": "stderr",
          "text": [
            "Warning message in leveneTest.default(y = y, group = group, ...):\n",
            "“group coerced to factor.”\n"
          ]
        },
        {
          "output_type": "display_data",
          "data": {
            "text/html": [
              "<table class=\"dataframe\">\n",
              "<caption>A anova: 2 × 3</caption>\n",
              "<thead>\n",
              "\t<tr><th></th><th scope=col>Df</th><th scope=col>F value</th><th scope=col>Pr(&gt;F)</th></tr>\n",
              "\t<tr><th></th><th scope=col>&lt;int&gt;</th><th scope=col>&lt;dbl&gt;</th><th scope=col>&lt;dbl&gt;</th></tr>\n",
              "</thead>\n",
              "<tbody>\n",
              "\t<tr><th scope=row>group</th><td>  3</td><td>9.176948</td><td>9.112722e-06</td></tr>\n",
              "\t<tr><th scope=row> </th><td>236</td><td>      NA</td><td>          NA</td></tr>\n",
              "</tbody>\n",
              "</table>\n"
            ],
            "text/markdown": "\nA anova: 2 × 3\n\n| <!--/--> | Df &lt;int&gt; | F value &lt;dbl&gt; | Pr(&gt;F) &lt;dbl&gt; |\n|---|---|---|---|\n| group |   3 | 9.176948 | 9.112722e-06 |\n| <!----> | 236 |       NA |           NA |\n\n",
            "text/latex": "A anova: 2 × 3\n\\begin{tabular}{r|lll}\n  & Df & F value & Pr(>F)\\\\\n  & <int> & <dbl> & <dbl>\\\\\n\\hline\n\tgroup &   3 & 9.176948 & 9.112722e-06\\\\\n\t  & 236 &       NA &           NA\\\\\n\\end{tabular}\n",
            "text/plain": [
              "      Df  F value  Pr(>F)      \n",
              "group   3 9.176948 9.112722e-06\n",
              "      236       NA           NA"
            ]
          },
          "metadata": {}
        }
      ]
    },
    {
      "cell_type": "markdown",
      "source": [
        "Violation of both statistical assumptions"
      ],
      "metadata": {
        "id": "wOIWke2_mVR4"
      }
    },
    {
      "cell_type": "markdown",
      "source": [
        "##DATA VISUALIZATION"
      ],
      "metadata": {
        "id": "4uMHkkUfmiqf"
      }
    },
    {
      "cell_type": "code",
      "source": [
        "ggplot(data = scores_wide) + geom_histogram(aes(x = Bronx.total_SAT),color = \"black\", fill = \"#994808\", binwidth = 50) + xlab(\"SAT Scores\") + coord_cartesian(xlim=c(1000,1470)) +ggtitle(\"Total SAT Score Distribution (Bronx)\") + theme_bw() + theme(panel.grid = element_blank(), plot.title = element_text(hjust = 0.5))"
      ],
      "metadata": {
        "colab": {
          "base_uri": "https://localhost:8080/",
          "height": 437
        },
        "id": "g_Ag4UDAmo0u",
        "outputId": "6d962880-9565-465e-fa5a-b6b03f1d9a36"
      },
      "execution_count": 122,
      "outputs": [
        {
          "output_type": "display_data",
          "data": {
            "text/plain": [
              "plot without title"
            ],
            "image/png": "[encoded data removed]"
          },
          "metadata": {
            "image/png": {
              "width": 420,
              "height": 420
            }
          }
        }
      ]
    },
    {
      "cell_type": "code",
      "source": [
        "ggplot(data = scores_wide) + geom_histogram(aes(x = Brooklyn.total_SAT),color = \"black\", fill = \"#f79545\", binwidth = 90) + xlab(\"SAT Scores\") + coord_cartesian(xlim=c(920,1804)) +ggtitle(\"Total SAT Score Distribution (Brooklyn)\") + theme_bw() + theme(panel.grid = element_blank(), plot.title = element_text(hjust = 0.5))"
      ],
      "metadata": {
        "colab": {
          "base_uri": "https://localhost:8080/",
          "height": 437
        },
        "id": "90g-Jf8Mmoxs",
        "outputId": "304ac8a7-bcd6-438e-a4d3-954db6ac184f"
      },
      "execution_count": 123,
      "outputs": [
        {
          "output_type": "display_data",
          "data": {
            "text/plain": [
              "plot without title"
            ],
            "image/png": "[encoded data removed]"
          },
          "metadata": {
            "image/png": {
              "width": 420,
              "height": 420
            }
          }
        }
      ]
    },
    {
      "cell_type": "code",
      "source": [
        "ggplot(data = scores_wide) + geom_histogram(aes(x = Queens.total_SAT),color = \"black\", fill = \"#ff65cc\", binwidth = 100) + xlab(\"SAT Scores\") + coord_cartesian(xlim=c(1000,2000)) +ggtitle(\"Total SAT Score Distribution (Queens)\") + theme_bw() + theme(panel.grid = element_blank(), plot.title = element_text(hjust = 0.5))"
      ],
      "metadata": {
        "colab": {
          "base_uri": "https://localhost:8080/",
          "height": 437
        },
        "id": "_n7aXdxNmsCW",
        "outputId": "024012e4-5bed-4c1b-807e-23e69c8f7743"
      },
      "execution_count": 127,
      "outputs": [
        {
          "output_type": "display_data",
          "data": {
            "text/plain": [
              "plot without title"
            ],
            "image/png": "[encoded data removed]"
          },
          "metadata": {
            "image/png": {
              "width": 420,
              "height": 420
            }
          }
        }
      ]
    },
    {
      "cell_type": "code",
      "source": [
        "ggplot(data = scores_wide) + geom_histogram(aes(x = Manhattan.total_SAT),color = \"black\", fill = \"aquamarine\", binwidth = 40) + xlab(\"SAT Scores\") + coord_cartesian(xlim=c(1000,2000)) +ggtitle(\"Total SAT Score Distribution(Manhattan)\") + theme_bw() + theme(panel.grid = element_blank(), plot.title = element_text(hjust = 0.5))"
      ],
      "metadata": {
        "colab": {
          "base_uri": "https://localhost:8080/",
          "height": 437
        },
        "id": "RP9wBJdzmq_U",
        "outputId": "4544c249-3220-41df-9d15-c32d62c44983"
      },
      "execution_count": 129,
      "outputs": [
        {
          "output_type": "display_data",
          "data": {
            "text/plain": [
              "plot without title"
            ],
            "image/png": "[encoded data removed]"
          },
          "metadata": {
            "image/png": {
              "width": 420,
              "height": 420
            }
          }
        }
      ]
    },
    {
      "cell_type": "markdown",
      "source": [
        "## DATA TRANSFORMATION"
      ],
      "metadata": {
        "id": "jAfopnG0mbG5"
      }
    },
    {
      "cell_type": "code",
      "source": [
        "Square_dat= scores_wide%>%mutate(Bronx_rt= sqrt(Bronx.total_SAT), Manhattan_rt= sqrt(Manhattan.total_SAT), Queens_rt= sqrt(Queens.total_SAT),Brooklyn_rt= sqrt(Brooklyn.total_SAT))"
      ],
      "metadata": {
        "id": "-hk4sA3Cmqne"
      },
      "execution_count": 136,
      "outputs": []
    },
    {
      "cell_type": "code",
      "source": [
        "Square_dat"
      ],
      "metadata": {
        "colab": {
          "base_uri": "https://localhost:8080/",
          "height": 1000
        },
        "id": "IncexbhUmqZy",
        "outputId": "fd6dd8ad-ab61-4818-cc4e-4f5f49c25e72"
      },
      "execution_count": 137,
      "outputs": [
        {
          "output_type": "display_data",
          "data": {
            "text/html": [
              "<table class=\"dataframe\">\n",
              "<caption>A data.frame: 60 × 12</caption>\n",
              "<thead>\n",
              "\t<tr><th scope=col>Bronx.borough</th><th scope=col>Bronx.total_SAT</th><th scope=col>Brooklyn.borough</th><th scope=col>Brooklyn.total_SAT</th><th scope=col>Queens.borough</th><th scope=col>Queens.total_SAT</th><th scope=col>Manhattan.borough</th><th scope=col>Manhattan.total_SAT</th><th scope=col>Bronx_rt</th><th scope=col>Manhattan_rt</th><th scope=col>Queens_rt</th><th scope=col>Brooklyn_rt</th></tr>\n",
              "\t<tr><th scope=col>&lt;chr&gt;</th><th scope=col>&lt;int&gt;</th><th scope=col>&lt;chr&gt;</th><th scope=col>&lt;int&gt;</th><th scope=col>&lt;chr&gt;</th><th scope=col>&lt;int&gt;</th><th scope=col>&lt;chr&gt;</th><th scope=col>&lt;int&gt;</th><th scope=col>&lt;dbl&gt;</th><th scope=col>&lt;dbl&gt;</th><th scope=col>&lt;dbl&gt;</th><th scope=col>&lt;dbl&gt;</th></tr>\n",
              "</thead>\n",
              "<tbody>\n",
              "\t<tr><td>Bronx</td><td>1164</td><td>Brooklyn</td><td>1182</td><td>Queens</td><td>1335</td><td>Manhattan</td><td>1859</td><td>34.11744</td><td>43.11612</td><td>36.53765</td><td>34.38023</td></tr>\n",
              "\t<tr><td>Bronx</td><td>1227</td><td>Brooklyn</td><td>1099</td><td>Queens</td><td>1313</td><td>Manhattan</td><td>1193</td><td>35.02856</td><td>34.53983</td><td>36.23534</td><td>33.15117</td></tr>\n",
              "\t<tr><td>Bronx</td><td>1202</td><td>Brooklyn</td><td>1217</td><td>Queens</td><td>1143</td><td>Manhattan</td><td>1261</td><td>34.66987</td><td>35.51056</td><td>33.80828</td><td>34.88553</td></tr>\n",
              "\t<tr><td>Bronx</td><td>1100</td><td>Brooklyn</td><td>1176</td><td>Queens</td><td>1346</td><td>Manhattan</td><td>1529</td><td>33.16625</td><td>39.10243</td><td>36.68787</td><td>34.29286</td></tr>\n",
              "\t<tr><td>Bronx</td><td>1203</td><td>Brooklyn</td><td>1407</td><td>Queens</td><td>1431</td><td>Manhattan</td><td>1197</td><td>34.68429</td><td>34.59769</td><td>37.82856</td><td>37.51000</td></tr>\n",
              "\t<tr><td>Bronx</td><td>1142</td><td>Brooklyn</td><td>1219</td><td>Queens</td><td>1456</td><td>Manhattan</td><td>1914</td><td>33.79349</td><td>43.74929</td><td>38.15757</td><td>34.91418</td></tr>\n",
              "\t<tr><td>Bronx</td><td>1124</td><td>Brooklyn</td><td>1319</td><td>Queens</td><td>1245</td><td>Manhattan</td><td>1165</td><td>33.52611</td><td>34.13210</td><td>35.28456</td><td>36.31804</td></tr>\n",
              "\t<tr><td>Bronx</td><td>1134</td><td>Brooklyn</td><td>1238</td><td>Queens</td><td>1839</td><td>Manhattan</td><td>1245</td><td>33.67492</td><td>35.28456</td><td>42.88356</td><td>35.18522</td></tr>\n",
              "\t<tr><td>Bronx</td><td>1053</td><td>Brooklyn</td><td>1216</td><td>Queens</td><td>1157</td><td>Manhattan</td><td>1144</td><td>32.44996</td><td>33.82307</td><td>34.01470</td><td>34.87119</td></tr>\n",
              "\t<tr><td>Bronx</td><td>1227</td><td>Brooklyn</td><td>1105</td><td>Queens</td><td>1274</td><td>Manhattan</td><td>1149</td><td>35.02856</td><td>33.89690</td><td>35.69314</td><td>33.24154</td></tr>\n",
              "\t<tr><td>Bronx</td><td> 995</td><td>Brooklyn</td><td>1161</td><td>Queens</td><td>1368</td><td>Manhattan</td><td>1292</td><td>31.54362</td><td>35.94440</td><td>36.98648</td><td>34.07345</td></tr>\n",
              "\t<tr><td>Bronx</td><td>1349</td><td>Brooklyn</td><td>1160</td><td>Queens</td><td>1404</td><td>Manhattan</td><td>1327</td><td>36.72874</td><td>36.42801</td><td>37.46999</td><td>34.05877</td></tr>\n",
              "\t<tr><td>Bronx</td><td>1290</td><td>Brooklyn</td><td>1209</td><td>Queens</td><td>1424</td><td>Manhattan</td><td>1290</td><td>35.91657</td><td>35.91657</td><td>37.73592</td><td>34.77068</td></tr>\n",
              "\t<tr><td>Bronx</td><td>1119</td><td>Brooklyn</td><td>1099</td><td>Queens</td><td>1316</td><td>Manhattan</td><td>1049</td><td>33.45146</td><td>32.38827</td><td>36.27671</td><td>33.15117</td></tr>\n",
              "\t<tr><td>Bronx</td><td>1160</td><td>Brooklyn</td><td>1386</td><td>Queens</td><td>1265</td><td>Manhattan</td><td>1592</td><td>34.05877</td><td>39.89987</td><td>35.56684</td><td>37.22902</td></tr>\n",
              "\t<tr><td>Bronx</td><td>1005</td><td>Brooklyn</td><td>1127</td><td>Queens</td><td>1622</td><td>Manhattan</td><td>1360</td><td>31.70173</td><td>36.87818</td><td>40.27406</td><td>33.57082</td></tr>\n",
              "\t<tr><td>Bronx</td><td>1130</td><td>Brooklyn</td><td>1161</td><td>Queens</td><td>1881</td><td>Manhattan</td><td>1327</td><td>33.61547</td><td>36.42801</td><td>43.37050</td><td>34.07345</td></tr>\n",
              "\t<tr><td>Bronx</td><td>1466</td><td>Brooklyn</td><td>1258</td><td>Queens</td><td>1256</td><td>Manhattan</td><td>1235</td><td>38.28838</td><td>35.14257</td><td>35.44009</td><td>35.46830</td></tr>\n",
              "\t<tr><td>Bronx</td><td>1246</td><td>Brooklyn</td><td>1322</td><td>Queens</td><td>1429</td><td>Manhattan</td><td>1704</td><td>35.29873</td><td>41.27953</td><td>37.80212</td><td>36.35932</td></tr>\n",
              "\t<tr><td>Bronx</td><td>1188</td><td>Brooklyn</td><td>1124</td><td>Queens</td><td>1127</td><td>Manhattan</td><td>1255</td><td>34.46738</td><td>35.42598</td><td>33.57082</td><td>33.52611</td></tr>\n",
              "\t<tr><td>Bronx</td><td>1138</td><td>Brooklyn</td><td>1028</td><td>Queens</td><td>1462</td><td>Manhattan</td><td>1358</td><td>33.73426</td><td>36.85105</td><td>38.23611</td><td>32.06244</td></tr>\n",
              "\t<tr><td>Bronx</td><td>1145</td><td>Brooklyn</td><td>1435</td><td>Queens</td><td>1487</td><td>Manhattan</td><td>1178</td><td>33.83785</td><td>34.32200</td><td>38.56164</td><td>37.88139</td></tr>\n",
              "\t<tr><td>Bronx</td><td>1182</td><td>Brooklyn</td><td>1075</td><td>Queens</td><td>1578</td><td>Manhattan</td><td>1327</td><td>34.38023</td><td>36.42801</td><td>39.72405</td><td>32.78719</td></tr>\n",
              "\t<tr><td>Bronx</td><td>1159</td><td>Brooklyn</td><td>1804</td><td>Queens</td><td>1530</td><td>Manhattan</td><td>1649</td><td>34.04409</td><td>40.60788</td><td>39.11521</td><td>42.47352</td></tr>\n",
              "\t<tr><td>Bronx</td><td>1285</td><td>Brooklyn</td><td>1181</td><td>Queens</td><td>1495</td><td>Manhattan</td><td>1589</td><td>35.84690</td><td>39.86226</td><td>38.66523</td><td>34.36568</td></tr>\n",
              "\t<tr><td>Bronx</td><td>1178</td><td>Brooklyn</td><td>1107</td><td>Queens</td><td>1309</td><td>Manhattan</td><td>1511</td><td>34.32200</td><td>38.87158</td><td>36.18011</td><td>33.27161</td></tr>\n",
              "\t<tr><td>Bronx</td><td>1214</td><td>Brooklyn</td><td>1153</td><td>Queens</td><td>1314</td><td>Manhattan</td><td>1700</td><td>34.84250</td><td>41.23106</td><td>36.24914</td><td>33.95585</td></tr>\n",
              "\t<tr><td>Bronx</td><td>1121</td><td>Brooklyn</td><td>1091</td><td>Queens</td><td>1981</td><td>Manhattan</td><td>1173</td><td>33.48134</td><td>34.24909</td><td>44.50843</td><td>33.03029</td></tr>\n",
              "\t<tr><td>Bronx</td><td>1141</td><td>Brooklyn</td><td>1009</td><td>Queens</td><td>1211</td><td>Manhattan</td><td>1216</td><td>33.77869</td><td>34.87119</td><td>34.79943</td><td>31.76476</td></tr>\n",
              "\t<tr><td>Bronx</td><td>1278</td><td>Brooklyn</td><td>1140</td><td>Queens</td><td>1277</td><td>Manhattan</td><td>1158</td><td>35.74913</td><td>34.02940</td><td>35.73514</td><td>33.76389</td></tr>\n",
              "\t<tr><td>Bronx</td><td>1205</td><td>Brooklyn</td><td>1162</td><td>Queens</td><td>1427</td><td>Manhattan</td><td>1302</td><td>34.71311</td><td>36.08324</td><td>37.77565</td><td>34.08812</td></tr>\n",
              "\t<tr><td>Bronx</td><td>1071</td><td>Brooklyn</td><td>1336</td><td>Queens</td><td> 978</td><td>Manhattan</td><td>1612</td><td>32.72614</td><td>40.14972</td><td>31.27299</td><td>36.55133</td></tr>\n",
              "\t<tr><td>Bronx</td><td>1158</td><td>Brooklyn</td><td>1129</td><td>Queens</td><td>1224</td><td>Manhattan</td><td>1257</td><td>34.02940</td><td>35.45420</td><td>34.98571</td><td>33.60060</td></tr>\n",
              "\t<tr><td>Bronx</td><td>1233</td><td>Brooklyn</td><td> 926</td><td>Queens</td><td>1485</td><td>Manhattan</td><td>1536</td><td>35.11410</td><td>39.19184</td><td>38.53570</td><td>30.43025</td></tr>\n",
              "\t<tr><td>Bronx</td><td>1165</td><td>Brooklyn</td><td>1161</td><td>Queens</td><td>1357</td><td>Manhattan</td><td>1005</td><td>34.13210</td><td>31.70173</td><td>36.83748</td><td>34.07345</td></tr>\n",
              "\t<tr><td>Bronx</td><td>1189</td><td>Brooklyn</td><td>1158</td><td>Queens</td><td>1290</td><td>Manhattan</td><td>1147</td><td>34.48188</td><td>33.86739</td><td>35.91657</td><td>34.02940</td></tr>\n",
              "\t<tr><td>Bronx</td><td>1223</td><td>Brooklyn</td><td>1097</td><td>Queens</td><td>1194</td><td>Manhattan</td><td>1152</td><td>34.97142</td><td>33.94113</td><td>34.55431</td><td>33.12099</td></tr>\n",
              "\t<tr><td>Bronx</td><td>1214</td><td>Brooklyn</td><td>1186</td><td>Queens</td><td>1186</td><td>Manhattan</td><td>1093</td><td>34.84250</td><td>33.06055</td><td>34.43835</td><td>34.43835</td></tr>\n",
              "\t<tr><td>Bronx</td><td>1229</td><td>Brooklyn</td><td>1130</td><td>Queens</td><td>1241</td><td>Manhattan</td><td>1308</td><td>35.05710</td><td>36.16628</td><td>35.22783</td><td>33.61547</td></tr>\n",
              "\t<tr><td>Bronx</td><td>1096</td><td>Brooklyn</td><td>1420</td><td>Queens</td><td>1191</td><td>Manhattan</td><td>1265</td><td>33.10589</td><td>35.56684</td><td>34.51087</td><td>37.68289</td></tr>\n",
              "\t<tr><td>Bronx</td><td>1161</td><td>Brooklyn</td><td>1580</td><td>Queens</td><td>1201</td><td>Manhattan</td><td>1367</td><td>34.07345</td><td>36.97296</td><td>34.65545</td><td>39.74921</td></tr>\n",
              "\t<tr><td>Bronx</td><td>1117</td><td>Brooklyn</td><td>1141</td><td>Queens</td><td>1248</td><td>Manhattan</td><td>1388</td><td>33.42155</td><td>37.25587</td><td>35.32704</td><td>33.77869</td></tr>\n",
              "\t<tr><td>Bronx</td><td>1147</td><td>Brooklyn</td><td>1334</td><td>Queens</td><td>1286</td><td>Manhattan</td><td>1116</td><td>33.86739</td><td>33.40659</td><td>35.86084</td><td>36.52396</td></tr>\n",
              "\t<tr><td>Bronx</td><td>1232</td><td>Brooklyn</td><td>1188</td><td>Queens</td><td>1397</td><td>Manhattan</td><td>1292</td><td>35.09986</td><td>35.94440</td><td>37.37646</td><td>34.46738</td></tr>\n",
              "\t<tr><td>Bronx</td><td>1093</td><td>Brooklyn</td><td>1103</td><td>Queens</td><td>1214</td><td>Manhattan</td><td>1284</td><td>33.06055</td><td>35.83295</td><td>34.84250</td><td>33.21144</td></tr>\n",
              "\t<tr><td>Bronx</td><td>1232</td><td>Brooklyn</td><td>1177</td><td>Queens</td><td>1285</td><td>Manhattan</td><td>1889</td><td>35.09986</td><td>43.46263</td><td>35.84690</td><td>34.30743</td></tr>\n",
              "\t<tr><td>Bronx</td><td>1115</td><td>Brooklyn</td><td>1313</td><td>Queens</td><td>1218</td><td>Manhattan</td><td>1144</td><td>33.39162</td><td>33.82307</td><td>34.89986</td><td>36.23534</td></tr>\n",
              "\t<tr><td>Bronx</td><td>1031</td><td>Brooklyn</td><td>1246</td><td>Queens</td><td>1253</td><td>Manhattan</td><td>1207</td><td>32.10919</td><td>34.74191</td><td>35.39774</td><td>35.29873</td></tr>\n",
              "\t<tr><td>Bronx</td><td>1114</td><td>Brooklyn</td><td>1201</td><td>Queens</td><td>1326</td><td>Manhattan</td><td>1764</td><td>33.37664</td><td>42.00000</td><td>36.41428</td><td>34.65545</td></tr>\n",
              "\t<tr><td>Bronx</td><td>1169</td><td>Brooklyn</td><td>1205</td><td>Queens</td><td>1184</td><td>Manhattan</td><td>1781</td><td>34.19064</td><td>42.20190</td><td>34.40930</td><td>34.71311</td></tr>\n",
              "\t<tr><td>Bronx</td><td>1124</td><td>Brooklyn</td><td>1298</td><td>Queens</td><td>1549</td><td>Manhattan</td><td>1255</td><td>33.52611</td><td>35.42598</td><td>39.35734</td><td>36.02777</td></tr>\n",
              "\t<tr><td>Bronx</td><td>1194</td><td>Brooklyn</td><td>1207</td><td>Queens</td><td>1410</td><td>Manhattan</td><td>1647</td><td>34.55431</td><td>40.58325</td><td>37.54997</td><td>34.74191</td></tr>\n",
              "\t<tr><td>Bronx</td><td>1252</td><td>Brooklyn</td><td>1185</td><td>Queens</td><td>1193</td><td>Manhattan</td><td>1234</td><td>35.38361</td><td>35.12834</td><td>34.53983</td><td>34.42383</td></tr>\n",
              "\t<tr><td>Bronx</td><td>1240</td><td>Brooklyn</td><td>1102</td><td>Queens</td><td>1268</td><td>Manhattan</td><td>1142</td><td>35.21363</td><td>33.79349</td><td>35.60899</td><td>33.19639</td></tr>\n",
              "\t<tr><td>Bronx</td><td>1249</td><td>Brooklyn</td><td>1326</td><td>Queens</td><td>1335</td><td>Manhattan</td><td>1480</td><td>35.34119</td><td>38.47077</td><td>36.53765</td><td>36.41428</td></tr>\n",
              "\t<tr><td>Bronx</td><td>1144</td><td>Brooklyn</td><td>1104</td><td>Queens</td><td>1306</td><td>Manhattan</td><td>1226</td><td>33.82307</td><td>35.01428</td><td>36.13862</td><td>33.22650</td></tr>\n",
              "\t<tr><td>Bronx</td><td>1191</td><td>Brooklyn</td><td>1212</td><td>Queens</td><td>1457</td><td>Manhattan</td><td>1174</td><td>34.51087</td><td>34.26368</td><td>38.17067</td><td>34.81379</td></tr>\n",
              "\t<tr><td>Bronx</td><td>1156</td><td>Brooklyn</td><td>1327</td><td>Queens</td><td>1212</td><td>Manhattan</td><td>1147</td><td>34.00000</td><td>33.86739</td><td>34.81379</td><td>36.42801</td></tr>\n",
              "\t<tr><td>Bronx</td><td>1291</td><td>Brooklyn</td><td>1126</td><td>Queens</td><td>1450</td><td>Manhattan</td><td>1690</td><td>35.93049</td><td>41.10961</td><td>38.07887</td><td>33.55592</td></tr>\n",
              "\t<tr><td>Bronx</td><td>1268</td><td>Brooklyn</td><td>1385</td><td>Queens</td><td>1947</td><td>Manhattan</td><td>1071</td><td>35.60899</td><td>32.72614</td><td>44.12482</td><td>37.21559</td></tr>\n",
              "</tbody>\n",
              "</table>\n"
            ],
            "text/markdown": "\nA data.frame: 60 × 12\n\n| Bronx.borough &lt;chr&gt; | Bronx.total_SAT &lt;int&gt; | Brooklyn.borough &lt;chr&gt; | Brooklyn.total_SAT &lt;int&gt; | Queens.borough &lt;chr&gt; | Queens.total_SAT &lt;int&gt; | Manhattan.borough &lt;chr&gt; | Manhattan.total_SAT &lt;int&gt; | Bronx_rt &lt;dbl&gt; | Manhattan_rt &lt;dbl&gt; | Queens_rt &lt;dbl&gt; | Brooklyn_rt &lt;dbl&gt; |\n|---|---|---|---|---|---|---|---|---|---|---|---|\n| Bronx | 1164 | Brooklyn | 1182 | Queens | 1335 | Manhattan | 1859 | 34.11744 | 43.11612 | 36.53765 | 34.38023 |\n| Bronx | 1227 | Brooklyn | 1099 | Queens | 1313 | Manhattan | 1193 | 35.02856 | 34.53983 | 36.23534 | 33.15117 |\n| Bronx | 1202 | Brooklyn | 1217 | Queens | 1143 | Manhattan | 1261 | 34.66987 | 35.51056 | 33.80828 | 34.88553 |\n| Bronx | 1100 | Brooklyn | 1176 | Queens | 1346 | Manhattan | 1529 | 33.16625 | 39.10243 | 36.68787 | 34.29286 |\n| Bronx | 1203 | Brooklyn | 1407 | Queens | 1431 | Manhattan | 1197 | 34.68429 | 34.59769 | 37.82856 | 37.51000 |\n| Bronx | 1142 | Brooklyn | 1219 | Queens | 1456 | Manhattan | 1914 | 33.79349 | 43.74929 | 38.15757 | 34.91418 |\n| Bronx | 1124 | Brooklyn | 1319 | Queens | 1245 | Manhattan | 1165 | 33.52611 | 34.13210 | 35.28456 | 36.31804 |\n| Bronx | 1134 | Brooklyn | 1238 | Queens | 1839 | Manhattan | 1245 | 33.67492 | 35.28456 | 42.88356 | 35.18522 |\n| Bronx | 1053 | Brooklyn | 1216 | Queens | 1157 | Manhattan | 1144 | 32.44996 | 33.82307 | 34.01470 | 34.87119 |\n| Bronx | 1227 | Brooklyn | 1105 | Queens | 1274 | Manhattan | 1149 | 35.02856 | 33.89690 | 35.69314 | 33.24154 |\n| Bronx |  995 | Brooklyn | 1161 | Queens | 1368 | Manhattan | 1292 | 31.54362 | 35.94440 | 36.98648 | 34.07345 |\n| Bronx | 1349 | Brooklyn | 1160 | Queens | 1404 | Manhattan | 1327 | 36.72874 | 36.42801 | 37.46999 | 34.05877 |\n| Bronx | 1290 | Brooklyn | 1209 | Queens | 1424 | Manhattan | 1290 | 35.91657 | 35.91657 | 37.73592 | 34.77068 |\n| Bronx | 1119 | Brooklyn | 1099 | Queens | 1316 | Manhattan | 1049 | 33.45146 | 32.38827 | 36.27671 | 33.15117 |\n| Bronx | 1160 | Brooklyn | 1386 | Queens | 1265 | Manhattan | 1592 | 34.05877 | 39.89987 | 35.56684 | 37.22902 |\n| Bronx | 1005 | Brooklyn | 1127 | Queens | 1622 | Manhattan | 1360 | 31.70173 | 36.87818 | 40.27406 | 33.57082 |\n| Bronx | 1130 | Brooklyn | 1161 | Queens | 1881 | Manhattan | 1327 | 33.61547 | 36.42801 | 43.37050 | 34.07345 |\n| Bronx | 1466 | Brooklyn | 1258 | Queens | 1256 | Manhattan | 1235 | 38.28838 | 35.14257 | 35.44009 | 35.46830 |\n| Bronx | 1246 | Brooklyn | 1322 | Queens | 1429 | Manhattan | 1704 | 35.29873 | 41.27953 | 37.80212 | 36.35932 |\n| Bronx | 1188 | Brooklyn | 1124 | Queens | 1127 | Manhattan | 1255 | 34.46738 | 35.42598 | 33.57082 | 33.52611 |\n| Bronx | 1138 | Brooklyn | 1028 | Queens | 1462 | Manhattan | 1358 | 33.73426 | 36.85105 | 38.23611 | 32.06244 |\n| Bronx | 1145 | Brooklyn | 1435 | Queens | 1487 | Manhattan | 1178 | 33.83785 | 34.32200 | 38.56164 | 37.88139 |\n| Bronx | 1182 | Brooklyn | 1075 | Queens | 1578 | Manhattan | 1327 | 34.38023 | 36.42801 | 39.72405 | 32.78719 |\n| Bronx | 1159 | Brooklyn | 1804 | Queens | 1530 | Manhattan | 1649 | 34.04409 | 40.60788 | 39.11521 | 42.47352 |\n| Bronx | 1285 | Brooklyn | 1181 | Queens | 1495 | Manhattan | 1589 | 35.84690 | 39.86226 | 38.66523 | 34.36568 |\n| Bronx | 1178 | Brooklyn | 1107 | Queens | 1309 | Manhattan | 1511 | 34.32200 | 38.87158 | 36.18011 | 33.27161 |\n| Bronx | 1214 | Brooklyn | 1153 | Queens | 1314 | Manhattan | 1700 | 34.84250 | 41.23106 | 36.24914 | 33.95585 |\n| Bronx | 1121 | Brooklyn | 1091 | Queens | 1981 | Manhattan | 1173 | 33.48134 | 34.24909 | 44.50843 | 33.03029 |\n| Bronx | 1141 | Brooklyn | 1009 | Queens | 1211 | Manhattan | 1216 | 33.77869 | 34.87119 | 34.79943 | 31.76476 |\n| Bronx | 1278 | Brooklyn | 1140 | Queens | 1277 | Manhattan | 1158 | 35.74913 | 34.02940 | 35.73514 | 33.76389 |\n| Bronx | 1205 | Brooklyn | 1162 | Queens | 1427 | Manhattan | 1302 | 34.71311 | 36.08324 | 37.77565 | 34.08812 |\n| Bronx | 1071 | Brooklyn | 1336 | Queens |  978 | Manhattan | 1612 | 32.72614 | 40.14972 | 31.27299 | 36.55133 |\n| Bronx | 1158 | Brooklyn | 1129 | Queens | 1224 | Manhattan | 1257 | 34.02940 | 35.45420 | 34.98571 | 33.60060 |\n| Bronx | 1233 | Brooklyn |  926 | Queens | 1485 | Manhattan | 1536 | 35.11410 | 39.19184 | 38.53570 | 30.43025 |\n| Bronx | 1165 | Brooklyn | 1161 | Queens | 1357 | Manhattan | 1005 | 34.13210 | 31.70173 | 36.83748 | 34.07345 |\n| Bronx | 1189 | Brooklyn | 1158 | Queens | 1290 | Manhattan | 1147 | 34.48188 | 33.86739 | 35.91657 | 34.02940 |\n| Bronx | 1223 | Brooklyn | 1097 | Queens | 1194 | Manhattan | 1152 | 34.97142 | 33.94113 | 34.55431 | 33.12099 |\n| Bronx | 1214 | Brooklyn | 1186 | Queens | 1186 | Manhattan | 1093 | 34.84250 | 33.06055 | 34.43835 | 34.43835 |\n| Bronx | 1229 | Brooklyn | 1130 | Queens | 1241 | Manhattan | 1308 | 35.05710 | 36.16628 | 35.22783 | 33.61547 |\n| Bronx | 1096 | Brooklyn | 1420 | Queens | 1191 | Manhattan | 1265 | 33.10589 | 35.56684 | 34.51087 | 37.68289 |\n| Bronx | 1161 | Brooklyn | 1580 | Queens | 1201 | Manhattan | 1367 | 34.07345 | 36.97296 | 34.65545 | 39.74921 |\n| Bronx | 1117 | Brooklyn | 1141 | Queens | 1248 | Manhattan | 1388 | 33.42155 | 37.25587 | 35.32704 | 33.77869 |\n| Bronx | 1147 | Brooklyn | 1334 | Queens | 1286 | Manhattan | 1116 | 33.86739 | 33.40659 | 35.86084 | 36.52396 |\n| Bronx | 1232 | Brooklyn | 1188 | Queens | 1397 | Manhattan | 1292 | 35.09986 | 35.94440 | 37.37646 | 34.46738 |\n| Bronx | 1093 | Brooklyn | 1103 | Queens | 1214 | Manhattan | 1284 | 33.06055 | 35.83295 | 34.84250 | 33.21144 |\n| Bronx | 1232 | Brooklyn | 1177 | Queens | 1285 | Manhattan | 1889 | 35.09986 | 43.46263 | 35.84690 | 34.30743 |\n| Bronx | 1115 | Brooklyn | 1313 | Queens | 1218 | Manhattan | 1144 | 33.39162 | 33.82307 | 34.89986 | 36.23534 |\n| Bronx | 1031 | Brooklyn | 1246 | Queens | 1253 | Manhattan | 1207 | 32.10919 | 34.74191 | 35.39774 | 35.29873 |\n| Bronx | 1114 | Brooklyn | 1201 | Queens | 1326 | Manhattan | 1764 | 33.37664 | 42.00000 | 36.41428 | 34.65545 |\n| Bronx | 1169 | Brooklyn | 1205 | Queens | 1184 | Manhattan | 1781 | 34.19064 | 42.20190 | 34.40930 | 34.71311 |\n| Bronx | 1124 | Brooklyn | 1298 | Queens | 1549 | Manhattan | 1255 | 33.52611 | 35.42598 | 39.35734 | 36.02777 |\n| Bronx | 1194 | Brooklyn | 1207 | Queens | 1410 | Manhattan | 1647 | 34.55431 | 40.58325 | 37.54997 | 34.74191 |\n| Bronx | 1252 | Brooklyn | 1185 | Queens | 1193 | Manhattan | 1234 | 35.38361 | 35.12834 | 34.53983 | 34.42383 |\n| Bronx | 1240 | Brooklyn | 1102 | Queens | 1268 | Manhattan | 1142 | 35.21363 | 33.79349 | 35.60899 | 33.19639 |\n| Bronx | 1249 | Brooklyn | 1326 | Queens | 1335 | Manhattan | 1480 | 35.34119 | 38.47077 | 36.53765 | 36.41428 |\n| Bronx | 1144 | Brooklyn | 1104 | Queens | 1306 | Manhattan | 1226 | 33.82307 | 35.01428 | 36.13862 | 33.22650 |\n| Bronx | 1191 | Brooklyn | 1212 | Queens | 1457 | Manhattan | 1174 | 34.51087 | 34.26368 | 38.17067 | 34.81379 |\n| Bronx | 1156 | Brooklyn | 1327 | Queens | 1212 | Manhattan | 1147 | 34.00000 | 33.86739 | 34.81379 | 36.42801 |\n| Bronx | 1291 | Brooklyn | 1126 | Queens | 1450 | Manhattan | 1690 | 35.93049 | 41.10961 | 38.07887 | 33.55592 |\n| Bronx | 1268 | Brooklyn | 1385 | Queens | 1947 | Manhattan | 1071 | 35.60899 | 32.72614 | 44.12482 | 37.21559 |\n\n",
            "text/latex": "A data.frame: 60 × 12\n\\begin{tabular}{llllllllllll}\n Bronx.borough & Bronx.total\\_SAT & Brooklyn.borough & Brooklyn.total\\_SAT & Queens.borough & Queens.total\\_SAT & Manhattan.borough & Manhattan.total\\_SAT & Bronx\\_rt & Manhattan\\_rt & Queens\\_rt & Brooklyn\\_rt\\\\\n <chr> & <int> & <chr> & <int> & <chr> & <int> & <chr> & <int> & <dbl> & <dbl> & <dbl> & <dbl>\\\\\n\\hline\n\t Bronx & 1164 & Brooklyn & 1182 & Queens & 1335 & Manhattan & 1859 & 34.11744 & 43.11612 & 36.53765 & 34.38023\\\\\n\t Bronx & 1227 & Brooklyn & 1099 & Queens & 1313 & Manhattan & 1193 & 35.02856 & 34.53983 & 36.23534 & 33.15117\\\\\n\t Bronx & 1202 & Brooklyn & 1217 & Queens & 1143 & Manhattan & 1261 & 34.66987 & 35.51056 & 33.80828 & 34.88553\\\\\n\t Bronx & 1100 & Brooklyn & 1176 & Queens & 1346 & Manhattan & 1529 & 33.16625 & 39.10243 & 36.68787 & 34.29286\\\\\n\t Bronx & 1203 & Brooklyn & 1407 & Queens & 1431 & Manhattan & 1197 & 34.68429 & 34.59769 & 37.82856 & 37.51000\\\\\n\t Bronx & 1142 & Brooklyn & 1219 & Queens & 1456 & Manhattan & 1914 & 33.79349 & 43.74929 & 38.15757 & 34.91418\\\\\n\t Bronx & 1124 & Brooklyn & 1319 & Queens & 1245 & Manhattan & 1165 & 33.52611 & 34.13210 & 35.28456 & 36.31804\\\\\n\t Bronx & 1134 & Brooklyn & 1238 & Queens & 1839 & Manhattan & 1245 & 33.67492 & 35.28456 & 42.88356 & 35.18522\\\\\n\t Bronx & 1053 & Brooklyn & 1216 & Queens & 1157 & Manhattan & 1144 & 32.44996 & 33.82307 & 34.01470 & 34.87119\\\\\n\t Bronx & 1227 & Brooklyn & 1105 & Queens & 1274 & Manhattan & 1149 & 35.02856 & 33.89690 & 35.69314 & 33.24154\\\\\n\t Bronx &  995 & Brooklyn & 1161 & Queens & 1368 & Manhattan & 1292 & 31.54362 & 35.94440 & 36.98648 & 34.07345\\\\\n\t Bronx & 1349 & Brooklyn & 1160 & Queens & 1404 & Manhattan & 1327 & 36.72874 & 36.42801 & 37.46999 & 34.05877\\\\\n\t Bronx & 1290 & Brooklyn & 1209 & Queens & 1424 & Manhattan & 1290 & 35.91657 & 35.91657 & 37.73592 & 34.77068\\\\\n\t Bronx & 1119 & Brooklyn & 1099 & Queens & 1316 & Manhattan & 1049 & 33.45146 & 32.38827 & 36.27671 & 33.15117\\\\\n\t Bronx & 1160 & Brooklyn & 1386 & Queens & 1265 & Manhattan & 1592 & 34.05877 & 39.89987 & 35.56684 & 37.22902\\\\\n\t Bronx & 1005 & Brooklyn & 1127 & Queens & 1622 & Manhattan & 1360 & 31.70173 & 36.87818 & 40.27406 & 33.57082\\\\\n\t Bronx & 1130 & Brooklyn & 1161 & Queens & 1881 & Manhattan & 1327 & 33.61547 & 36.42801 & 43.37050 & 34.07345\\\\\n\t Bronx & 1466 & Brooklyn & 1258 & Queens & 1256 & Manhattan & 1235 & 38.28838 & 35.14257 & 35.44009 & 35.46830\\\\\n\t Bronx & 1246 & Brooklyn & 1322 & Queens & 1429 & Manhattan & 1704 & 35.29873 & 41.27953 & 37.80212 & 36.35932\\\\\n\t Bronx & 1188 & Brooklyn & 1124 & Queens & 1127 & Manhattan & 1255 & 34.46738 & 35.42598 & 33.57082 & 33.52611\\\\\n\t Bronx & 1138 & Brooklyn & 1028 & Queens & 1462 & Manhattan & 1358 & 33.73426 & 36.85105 & 38.23611 & 32.06244\\\\\n\t Bronx & 1145 & Brooklyn & 1435 & Queens & 1487 & Manhattan & 1178 & 33.83785 & 34.32200 & 38.56164 & 37.88139\\\\\n\t Bronx & 1182 & Brooklyn & 1075 & Queens & 1578 & Manhattan & 1327 & 34.38023 & 36.42801 & 39.72405 & 32.78719\\\\\n\t Bronx & 1159 & Brooklyn & 1804 & Queens & 1530 & Manhattan & 1649 & 34.04409 & 40.60788 & 39.11521 & 42.47352\\\\\n\t Bronx & 1285 & Brooklyn & 1181 & Queens & 1495 & Manhattan & 1589 & 35.84690 & 39.86226 & 38.66523 & 34.36568\\\\\n\t Bronx & 1178 & Brooklyn & 1107 & Queens & 1309 & Manhattan & 1511 & 34.32200 & 38.87158 & 36.18011 & 33.27161\\\\\n\t Bronx & 1214 & Brooklyn & 1153 & Queens & 1314 & Manhattan & 1700 & 34.84250 & 41.23106 & 36.24914 & 33.95585\\\\\n\t Bronx & 1121 & Brooklyn & 1091 & Queens & 1981 & Manhattan & 1173 & 33.48134 & 34.24909 & 44.50843 & 33.03029\\\\\n\t Bronx & 1141 & Brooklyn & 1009 & Queens & 1211 & Manhattan & 1216 & 33.77869 & 34.87119 & 34.79943 & 31.76476\\\\\n\t Bronx & 1278 & Brooklyn & 1140 & Queens & 1277 & Manhattan & 1158 & 35.74913 & 34.02940 & 35.73514 & 33.76389\\\\\n\t Bronx & 1205 & Brooklyn & 1162 & Queens & 1427 & Manhattan & 1302 & 34.71311 & 36.08324 & 37.77565 & 34.08812\\\\\n\t Bronx & 1071 & Brooklyn & 1336 & Queens &  978 & Manhattan & 1612 & 32.72614 & 40.14972 & 31.27299 & 36.55133\\\\\n\t Bronx & 1158 & Brooklyn & 1129 & Queens & 1224 & Manhattan & 1257 & 34.02940 & 35.45420 & 34.98571 & 33.60060\\\\\n\t Bronx & 1233 & Brooklyn &  926 & Queens & 1485 & Manhattan & 1536 & 35.11410 & 39.19184 & 38.53570 & 30.43025\\\\\n\t Bronx & 1165 & Brooklyn & 1161 & Queens & 1357 & Manhattan & 1005 & 34.13210 & 31.70173 & 36.83748 & 34.07345\\\\\n\t Bronx & 1189 & Brooklyn & 1158 & Queens & 1290 & Manhattan & 1147 & 34.48188 & 33.86739 & 35.91657 & 34.02940\\\\\n\t Bronx & 1223 & Brooklyn & 1097 & Queens & 1194 & Manhattan & 1152 & 34.97142 & 33.94113 & 34.55431 & 33.12099\\\\\n\t Bronx & 1214 & Brooklyn & 1186 & Queens & 1186 & Manhattan & 1093 & 34.84250 & 33.06055 & 34.43835 & 34.43835\\\\\n\t Bronx & 1229 & Brooklyn & 1130 & Queens & 1241 & Manhattan & 1308 & 35.05710 & 36.16628 & 35.22783 & 33.61547\\\\\n\t Bronx & 1096 & Brooklyn & 1420 & Queens & 1191 & Manhattan & 1265 & 33.10589 & 35.56684 & 34.51087 & 37.68289\\\\\n\t Bronx & 1161 & Brooklyn & 1580 & Queens & 1201 & Manhattan & 1367 & 34.07345 & 36.97296 & 34.65545 & 39.74921\\\\\n\t Bronx & 1117 & Brooklyn & 1141 & Queens & 1248 & Manhattan & 1388 & 33.42155 & 37.25587 & 35.32704 & 33.77869\\\\\n\t Bronx & 1147 & Brooklyn & 1334 & Queens & 1286 & Manhattan & 1116 & 33.86739 & 33.40659 & 35.86084 & 36.52396\\\\\n\t Bronx & 1232 & Brooklyn & 1188 & Queens & 1397 & Manhattan & 1292 & 35.09986 & 35.94440 & 37.37646 & 34.46738\\\\\n\t Bronx & 1093 & Brooklyn & 1103 & Queens & 1214 & Manhattan & 1284 & 33.06055 & 35.83295 & 34.84250 & 33.21144\\\\\n\t Bronx & 1232 & Brooklyn & 1177 & Queens & 1285 & Manhattan & 1889 & 35.09986 & 43.46263 & 35.84690 & 34.30743\\\\\n\t Bronx & 1115 & Brooklyn & 1313 & Queens & 1218 & Manhattan & 1144 & 33.39162 & 33.82307 & 34.89986 & 36.23534\\\\\n\t Bronx & 1031 & Brooklyn & 1246 & Queens & 1253 & Manhattan & 1207 & 32.10919 & 34.74191 & 35.39774 & 35.29873\\\\\n\t Bronx & 1114 & Brooklyn & 1201 & Queens & 1326 & Manhattan & 1764 & 33.37664 & 42.00000 & 36.41428 & 34.65545\\\\\n\t Bronx & 1169 & Brooklyn & 1205 & Queens & 1184 & Manhattan & 1781 & 34.19064 & 42.20190 & 34.40930 & 34.71311\\\\\n\t Bronx & 1124 & Brooklyn & 1298 & Queens & 1549 & Manhattan & 1255 & 33.52611 & 35.42598 & 39.35734 & 36.02777\\\\\n\t Bronx & 1194 & Brooklyn & 1207 & Queens & 1410 & Manhattan & 1647 & 34.55431 & 40.58325 & 37.54997 & 34.74191\\\\\n\t Bronx & 1252 & Brooklyn & 1185 & Queens & 1193 & Manhattan & 1234 & 35.38361 & 35.12834 & 34.53983 & 34.42383\\\\\n\t Bronx & 1240 & Brooklyn & 1102 & Queens & 1268 & Manhattan & 1142 & 35.21363 & 33.79349 & 35.60899 & 33.19639\\\\\n\t Bronx & 1249 & Brooklyn & 1326 & Queens & 1335 & Manhattan & 1480 & 35.34119 & 38.47077 & 36.53765 & 36.41428\\\\\n\t Bronx & 1144 & Brooklyn & 1104 & Queens & 1306 & Manhattan & 1226 & 33.82307 & 35.01428 & 36.13862 & 33.22650\\\\\n\t Bronx & 1191 & Brooklyn & 1212 & Queens & 1457 & Manhattan & 1174 & 34.51087 & 34.26368 & 38.17067 & 34.81379\\\\\n\t Bronx & 1156 & Brooklyn & 1327 & Queens & 1212 & Manhattan & 1147 & 34.00000 & 33.86739 & 34.81379 & 36.42801\\\\\n\t Bronx & 1291 & Brooklyn & 1126 & Queens & 1450 & Manhattan & 1690 & 35.93049 & 41.10961 & 38.07887 & 33.55592\\\\\n\t Bronx & 1268 & Brooklyn & 1385 & Queens & 1947 & Manhattan & 1071 & 35.60899 & 32.72614 & 44.12482 & 37.21559\\\\\n\\end{tabular}\n",
            "text/plain": [
              "   Bronx.borough Bronx.total_SAT Brooklyn.borough Brooklyn.total_SAT\n",
              "1  Bronx         1164            Brooklyn         1182              \n",
              "2  Bronx         1227            Brooklyn         1099              \n",
              "3  Bronx         1202            Brooklyn         1217              \n",
              "4  Bronx         1100            Brooklyn         1176              \n",
              "5  Bronx         1203            Brooklyn         1407              \n",
              "6  Bronx         1142            Brooklyn         1219              \n",
              "7  Bronx         1124            Brooklyn         1319              \n",
              "8  Bronx         1134            Brooklyn         1238              \n",
              "9  Bronx         1053            Brooklyn         1216              \n",
              "10 Bronx         1227            Brooklyn         1105              \n",
              "11 Bronx          995            Brooklyn         1161              \n",
              "12 Bronx         1349            Brooklyn         1160              \n",
              "13 Bronx         1290            Brooklyn         1209              \n",
              "14 Bronx         1119            Brooklyn         1099              \n",
              "15 Bronx         1160            Brooklyn         1386              \n",
              "16 Bronx         1005            Brooklyn         1127              \n",
              "17 Bronx         1130            Brooklyn         1161              \n",
              "18 Bronx         1466            Brooklyn         1258              \n",
              "19 Bronx         1246            Brooklyn         1322              \n",
              "20 Bronx         1188            Brooklyn         1124              \n",
              "21 Bronx         1138            Brooklyn         1028              \n",
              "22 Bronx         1145            Brooklyn         1435              \n",
              "23 Bronx         1182            Brooklyn         1075              \n",
              "24 Bronx         1159            Brooklyn         1804              \n",
              "25 Bronx         1285            Brooklyn         1181              \n",
              "26 Bronx         1178            Brooklyn         1107              \n",
              "27 Bronx         1214            Brooklyn         1153              \n",
              "28 Bronx         1121            Brooklyn         1091              \n",
              "29 Bronx         1141            Brooklyn         1009              \n",
              "30 Bronx         1278            Brooklyn         1140              \n",
              "31 Bronx         1205            Brooklyn         1162              \n",
              "32 Bronx         1071            Brooklyn         1336              \n",
              "33 Bronx         1158            Brooklyn         1129              \n",
              "34 Bronx         1233            Brooklyn          926              \n",
              "35 Bronx         1165            Brooklyn         1161              \n",
              "36 Bronx         1189            Brooklyn         1158              \n",
              "37 Bronx         1223            Brooklyn         1097              \n",
              "38 Bronx         1214            Brooklyn         1186              \n",
              "39 Bronx         1229            Brooklyn         1130              \n",
              "40 Bronx         1096            Brooklyn         1420              \n",
              "41 Bronx         1161            Brooklyn         1580              \n",
              "42 Bronx         1117            Brooklyn         1141              \n",
              "43 Bronx         1147            Brooklyn         1334              \n",
              "44 Bronx         1232            Brooklyn         1188              \n",
              "45 Bronx         1093            Brooklyn         1103              \n",
              "46 Bronx         1232            Brooklyn         1177              \n",
              "47 Bronx         1115            Brooklyn         1313              \n",
              "48 Bronx         1031            Brooklyn         1246              \n",
              "49 Bronx         1114            Brooklyn         1201              \n",
              "50 Bronx         1169            Brooklyn         1205              \n",
              "51 Bronx         1124            Brooklyn         1298              \n",
              "52 Bronx         1194            Brooklyn         1207              \n",
              "53 Bronx         1252            Brooklyn         1185              \n",
              "54 Bronx         1240            Brooklyn         1102              \n",
              "55 Bronx         1249            Brooklyn         1326              \n",
              "56 Bronx         1144            Brooklyn         1104              \n",
              "57 Bronx         1191            Brooklyn         1212              \n",
              "58 Bronx         1156            Brooklyn         1327              \n",
              "59 Bronx         1291            Brooklyn         1126              \n",
              "60 Bronx         1268            Brooklyn         1385              \n",
              "   Queens.borough Queens.total_SAT Manhattan.borough Manhattan.total_SAT\n",
              "1  Queens         1335             Manhattan         1859               \n",
              "2  Queens         1313             Manhattan         1193               \n",
              "3  Queens         1143             Manhattan         1261               \n",
              "4  Queens         1346             Manhattan         1529               \n",
              "5  Queens         1431             Manhattan         1197               \n",
              "6  Queens         1456             Manhattan         1914               \n",
              "7  Queens         1245             Manhattan         1165               \n",
              "8  Queens         1839             Manhattan         1245               \n",
              "9  Queens         1157             Manhattan         1144               \n",
              "10 Queens         1274             Manhattan         1149               \n",
              "11 Queens         1368             Manhattan         1292               \n",
              "12 Queens         1404             Manhattan         1327               \n",
              "13 Queens         1424             Manhattan         1290               \n",
              "14 Queens         1316             Manhattan         1049               \n",
              "15 Queens         1265             Manhattan         1592               \n",
              "16 Queens         1622             Manhattan         1360               \n",
              "17 Queens         1881             Manhattan         1327               \n",
              "18 Queens         1256             Manhattan         1235               \n",
              "19 Queens         1429             Manhattan         1704               \n",
              "20 Queens         1127             Manhattan         1255               \n",
              "21 Queens         1462             Manhattan         1358               \n",
              "22 Queens         1487             Manhattan         1178               \n",
              "23 Queens         1578             Manhattan         1327               \n",
              "24 Queens         1530             Manhattan         1649               \n",
              "25 Queens         1495             Manhattan         1589               \n",
              "26 Queens         1309             Manhattan         1511               \n",
              "27 Queens         1314             Manhattan         1700               \n",
              "28 Queens         1981             Manhattan         1173               \n",
              "29 Queens         1211             Manhattan         1216               \n",
              "30 Queens         1277             Manhattan         1158               \n",
              "31 Queens         1427             Manhattan         1302               \n",
              "32 Queens          978             Manhattan         1612               \n",
              "33 Queens         1224             Manhattan         1257               \n",
              "34 Queens         1485             Manhattan         1536               \n",
              "35 Queens         1357             Manhattan         1005               \n",
              "36 Queens         1290             Manhattan         1147               \n",
              "37 Queens         1194             Manhattan         1152               \n",
              "38 Queens         1186             Manhattan         1093               \n",
              "39 Queens         1241             Manhattan         1308               \n",
              "40 Queens         1191             Manhattan         1265               \n",
              "41 Queens         1201             Manhattan         1367               \n",
              "42 Queens         1248             Manhattan         1388               \n",
              "43 Queens         1286             Manhattan         1116               \n",
              "44 Queens         1397             Manhattan         1292               \n",
              "45 Queens         1214             Manhattan         1284               \n",
              "46 Queens         1285             Manhattan         1889               \n",
              "47 Queens         1218             Manhattan         1144               \n",
              "48 Queens         1253             Manhattan         1207               \n",
              "49 Queens         1326             Manhattan         1764               \n",
              "50 Queens         1184             Manhattan         1781               \n",
              "51 Queens         1549             Manhattan         1255               \n",
              "52 Queens         1410             Manhattan         1647               \n",
              "53 Queens         1193             Manhattan         1234               \n",
              "54 Queens         1268             Manhattan         1142               \n",
              "55 Queens         1335             Manhattan         1480               \n",
              "56 Queens         1306             Manhattan         1226               \n",
              "57 Queens         1457             Manhattan         1174               \n",
              "58 Queens         1212             Manhattan         1147               \n",
              "59 Queens         1450             Manhattan         1690               \n",
              "60 Queens         1947             Manhattan         1071               \n",
              "   Bronx_rt Manhattan_rt Queens_rt Brooklyn_rt\n",
              "1  34.11744 43.11612     36.53765  34.38023   \n",
              "2  35.02856 34.53983     36.23534  33.15117   \n",
              "3  34.66987 35.51056     33.80828  34.88553   \n",
              "4  33.16625 39.10243     36.68787  34.29286   \n",
              "5  34.68429 34.59769     37.82856  37.51000   \n",
              "6  33.79349 43.74929     38.15757  34.91418   \n",
              "7  33.52611 34.13210     35.28456  36.31804   \n",
              "8  33.67492 35.28456     42.88356  35.18522   \n",
              "9  32.44996 33.82307     34.01470  34.87119   \n",
              "10 35.02856 33.89690     35.69314  33.24154   \n",
              "11 31.54362 35.94440     36.98648  34.07345   \n",
              "12 36.72874 36.42801     37.46999  34.05877   \n",
              "13 35.91657 35.91657     37.73592  34.77068   \n",
              "14 33.45146 32.38827     36.27671  33.15117   \n",
              "15 34.05877 39.89987     35.56684  37.22902   \n",
              "16 31.70173 36.87818     40.27406  33.57082   \n",
              "17 33.61547 36.42801     43.37050  34.07345   \n",
              "18 38.28838 35.14257     35.44009  35.46830   \n",
              "19 35.29873 41.27953     37.80212  36.35932   \n",
              "20 34.46738 35.42598     33.57082  33.52611   \n",
              "21 33.73426 36.85105     38.23611  32.06244   \n",
              "22 33.83785 34.32200     38.56164  37.88139   \n",
              "23 34.38023 36.42801     39.72405  32.78719   \n",
              "24 34.04409 40.60788     39.11521  42.47352   \n",
              "25 35.84690 39.86226     38.66523  34.36568   \n",
              "26 34.32200 38.87158     36.18011  33.27161   \n",
              "27 34.84250 41.23106     36.24914  33.95585   \n",
              "28 33.48134 34.24909     44.50843  33.03029   \n",
              "29 33.77869 34.87119     34.79943  31.76476   \n",
              "30 35.74913 34.02940     35.73514  33.76389   \n",
              "31 34.71311 36.08324     37.77565  34.08812   \n",
              "32 32.72614 40.14972     31.27299  36.55133   \n",
              "33 34.02940 35.45420     34.98571  33.60060   \n",
              "34 35.11410 39.19184     38.53570  30.43025   \n",
              "35 34.13210 31.70173     36.83748  34.07345   \n",
              "36 34.48188 33.86739     35.91657  34.02940   \n",
              "37 34.97142 33.94113     34.55431  33.12099   \n",
              "38 34.84250 33.06055     34.43835  34.43835   \n",
              "39 35.05710 36.16628     35.22783  33.61547   \n",
              "40 33.10589 35.56684     34.51087  37.68289   \n",
              "41 34.07345 36.97296     34.65545  39.74921   \n",
              "42 33.42155 37.25587     35.32704  33.77869   \n",
              "43 33.86739 33.40659     35.86084  36.52396   \n",
              "44 35.09986 35.94440     37.37646  34.46738   \n",
              "45 33.06055 35.83295     34.84250  33.21144   \n",
              "46 35.09986 43.46263     35.84690  34.30743   \n",
              "47 33.39162 33.82307     34.89986  36.23534   \n",
              "48 32.10919 34.74191     35.39774  35.29873   \n",
              "49 33.37664 42.00000     36.41428  34.65545   \n",
              "50 34.19064 42.20190     34.40930  34.71311   \n",
              "51 33.52611 35.42598     39.35734  36.02777   \n",
              "52 34.55431 40.58325     37.54997  34.74191   \n",
              "53 35.38361 35.12834     34.53983  34.42383   \n",
              "54 35.21363 33.79349     35.60899  33.19639   \n",
              "55 35.34119 38.47077     36.53765  36.41428   \n",
              "56 33.82307 35.01428     36.13862  33.22650   \n",
              "57 34.51087 34.26368     38.17067  34.81379   \n",
              "58 34.00000 33.86739     34.81379  36.42801   \n",
              "59 35.93049 41.10961     38.07887  33.55592   \n",
              "60 35.60899 32.72614     44.12482  37.21559   "
            ]
          },
          "metadata": {}
        }
      ]
    },
    {
      "cell_type": "code",
      "source": [
        "Log_dat= scores_wide%>%mutate(Bronx_log= log(Bronx.total_SAT), Manhattan_log= log(Manhattan.total_SAT), Queens_log= log(Queens.total_SAT),Brooklyn_log= log(Brooklyn.total_SAT))"
      ],
      "metadata": {
        "id": "bG69S_oivSVW"
      },
      "execution_count": 145,
      "outputs": []
    },
    {
      "cell_type": "code",
      "source": [
        "Log_dat= scores_wide%>%mutate(Bronx_log= log(Bronx.total_SAT), Manhattan_log= log(Manhattan.total_SAT), Queens_log= log(Queens.total_SAT),Brooklyn_log= log(Brooklyn.total_SAT))"
      ],
      "metadata": {
        "id": "Lsnd7O1Ow6ls"
      },
      "execution_count": null,
      "outputs": []
    },
    {
      "cell_type": "code",
      "source": [
        "Log_dat2= scores_long%>%mutate(Score_log= log(total_SAT))\n",
        "Squared_dat2= scores_long%>%mutate(Score_sqrt= sqrt(total_SAT))"
      ],
      "metadata": {
        "id": "gP9LlUG9ztqs"
      },
      "execution_count": 170,
      "outputs": []
    },
    {
      "cell_type": "code",
      "source": [
        "Inv_dat= scores_wide%>%mutate(Bronx_inv= 1/(Bronx.total_SAT), Manhattan_inv= 1/(Manhattan.total_SAT), Queens_inv= 1/(Queens.total_SAT),Brooklyn_inv= 1/(Brooklyn.total_SAT))\n",
        "Inv_dat2= scores_long%>%mutate(Score_inv= 1/(total_SAT))"
      ],
      "metadata": {
        "id": "2JmdC6AUztUU"
      },
      "execution_count": 177,
      "outputs": []
    },
    {
      "cell_type": "code",
      "source": [
        "shapiro.test(Square_dat$Bronx_rt)"
      ],
      "metadata": {
        "colab": {
          "base_uri": "https://localhost:8080/",
          "height": 104
        },
        "id": "sPdxhagLyWvk",
        "outputId": "2e46682c-9e8d-42a4-f242-7bc723312ec2"
      },
      "execution_count": 167,
      "outputs": [
        {
          "output_type": "display_data",
          "data": {
            "text/plain": [
              "\n",
              "\tShapiro-Wilk normality test\n",
              "\n",
              "data:  Square_dat$Bronx_rt\n",
              "W = 0.97194, p-value = 0.1813\n"
            ]
          },
          "metadata": {}
        }
      ]
    },
    {
      "cell_type": "code",
      "source": [
        "shapiro.test(Inv_dat$Brooklyn_inv)"
      ],
      "metadata": {
        "colab": {
          "base_uri": "https://localhost:8080/",
          "height": 104
        },
        "id": "fWwuPF0x1eH1",
        "outputId": "b3d3f916-fc87-44fc-902c-43a4de3e6fcb"
      },
      "execution_count": 175,
      "outputs": [
        {
          "output_type": "display_data",
          "data": {
            "text/plain": [
              "\n",
              "\tShapiro-Wilk normality test\n",
              "\n",
              "data:  Inv_dat$Brooklyn_inv\n",
              "W = 0.95609, p-value = 0.03039\n"
            ]
          },
          "metadata": {}
        }
      ]
    },
    {
      "cell_type": "code",
      "source": [
        "leveneTest(y= Score_log~Borough,data=Log_dat2)\n",
        "leveneTest(y=Score_sqrt~Borough,data=Squared_dat2)\n",
        "leveneTest(y=Score_inv~Borough,data=Inv_dat2)"
      ],
      "metadata": {
        "id": "wjNQLaZgzX0g"
      },
      "execution_count": null,
      "outputs": []
    },
    {
      "cell_type": "code",
      "source": [
        "ggplot(data = Square_dat) + geom_histogram(aes(x = Brooklyn_rt),color = \"black\", fill = \"#f79545\", binwidth = 1.5) + xlab(\"SAT Scores\")+ggtitle(\"Total SAT Score Distribution (Brooklyn)\") + theme_bw() + theme(panel.grid = element_blank(), plot.title = element_text(hjust = 0.5))"
      ],
      "metadata": {
        "colab": {
          "base_uri": "https://localhost:8080/",
          "height": 437
        },
        "id": "8kik7hwkmqWI",
        "outputId": "8f19b7cc-ce15-4b6f-ac85-ae2476a78cff"
      },
      "execution_count": 155,
      "outputs": [
        {
          "output_type": "display_data",
          "data": {
            "text/plain": [
              "plot without title"
            ],
            "image/png": "[encoded data removed]"
          },
          "metadata": {
            "image/png": {
              "width": 420,
              "height": 420
            }
          }
        }
      ]
    },
    {
      "cell_type": "code",
      "source": [
        "ggplot(data = Log_dat) + geom_histogram(aes(x = Brooklyn_log),color = \"black\", fill = \"#f79545\", binwidth = 0.095) + xlab(\"SAT Scores\")+ggtitle(\"Total SAT Score Distribution (Brooklyn)\") + theme_bw() + theme(panel.grid = element_blank(), plot.title = element_text(hjust = 0.5))"
      ],
      "metadata": {
        "colab": {
          "base_uri": "https://localhost:8080/",
          "height": 437
        },
        "id": "Ozsa9HvRvrLV",
        "outputId": "ff6b3009-3ec0-4315-c3c1-453f3384efd4"
      },
      "execution_count": 192,
      "outputs": [
        {
          "output_type": "display_data",
          "data": {
            "text/plain": [
              "plot without title"
            ],
            "image/png": "[encoded data removed]"
          },
          "metadata": {
            "image/png": {
              "width": 420,
              "height": 420
            }
          }
        }
      ]
    },
    {
      "cell_type": "code",
      "source": [
        "ggplot(data = Inv_dat) + geom_histogram(aes(x = Brooklyn_inv),color = \"black\", fill = \"#f79545\", binwidth = 0.00007) + xlab(\"SAT Scores\")+ggtitle(\"Total SAT Score Distribution (Brooklyn)\") + theme_bw() + theme(panel.grid = element_blank(), plot.title = element_text(hjust = 0.5))"
      ],
      "metadata": {
        "colab": {
          "base_uri": "https://localhost:8080/",
          "height": 437
        },
        "id": "__oVBd3M0h5A",
        "outputId": "44b9137c-fe68-4ef3-89c0-cc86ff5ab3d2"
      },
      "execution_count": 190,
      "outputs": [
        {
          "output_type": "display_data",
          "data": {
            "text/plain": [
              "plot without title"
            ],
            "image/png": "[encoded data removed]"
          },
          "metadata": {
            "image/png": {
              "width": 420,
              "height": 420
            }
          }
        }
      ]
    },
    {
      "cell_type": "code",
      "source": [
        "scores_long= scores_long%>%mutate(Score_log= log(total_SAT))"
      ],
      "metadata": {
        "id": "gQDhHjyl5bva"
      },
      "execution_count": 198,
      "outputs": []
    },
    {
      "cell_type": "markdown",
      "source": [
        "## COMPARISON DISTRIBUTION AND CUTOFF VALUE"
      ],
      "metadata": {
        "id": "5OfSOr5e4RGy"
      }
    },
    {
      "cell_type": "code",
      "source": [
        "BoroughDFbetween <- 3\n",
        "BoroughDFerror <- 236"
      ],
      "metadata": {
        "id": "_jfROjO64QZ4"
      },
      "execution_count": 193,
      "outputs": []
    },
    {
      "cell_type": "code",
      "source": [
        "qf(1-0.05,BoroughDFbetween,BoroughDFerror)"
      ],
      "metadata": {
        "colab": {
          "base_uri": "https://localhost:8080/",
          "height": 34
        },
        "id": "3irsJyJF0h1Y",
        "outputId": "3525868c-dc5e-4fab-8197-e2994672c915"
      },
      "execution_count": 194,
      "outputs": [
        {
          "output_type": "display_data",
          "data": {
            "text/html": [
              "2.64285104668697"
            ],
            "text/markdown": "2.64285104668697",
            "text/latex": "2.64285104668697",
            "text/plain": [
              "[1] 2.642851"
            ]
          },
          "metadata": {}
        }
      ]
    },
    {
      "cell_type": "markdown",
      "source": [
        "## HYPOTHESIS TESTING"
      ],
      "metadata": {
        "id": "Hb6Sidkc5BkD"
      }
    },
    {
      "cell_type": "code",
      "source": [
        "BoroughLm <- lm(Score_log~Borough,data=scores_long)\n",
        "anova(BoroughLm)"
      ],
      "metadata": {
        "colab": {
          "base_uri": "https://localhost:8080/",
          "height": 161
        },
        "id": "4ZL6eo-s5AFE",
        "outputId": "ebd5313a-11cb-49c6-d87c-4adbe2e83ca3"
      },
      "execution_count": 201,
      "outputs": [
        {
          "output_type": "display_data",
          "data": {
            "text/html": [
              "<table class=\"dataframe\">\n",
              "<caption>A anova: 2 × 5</caption>\n",
              "<thead>\n",
              "\t<tr><th></th><th scope=col>Df</th><th scope=col>Sum Sq</th><th scope=col>Mean Sq</th><th scope=col>F value</th><th scope=col>Pr(&gt;F)</th></tr>\n",
              "\t<tr><th></th><th scope=col>&lt;int&gt;</th><th scope=col>&lt;dbl&gt;</th><th scope=col>&lt;dbl&gt;</th><th scope=col>&lt;dbl&gt;</th><th scope=col>&lt;dbl&gt;</th></tr>\n",
              "</thead>\n",
              "<tbody>\n",
              "\t<tr><th scope=row>Borough</th><td>  3</td><td>0.8646968</td><td>0.28823228</td><td>19.20672</td><td>3.534624e-11</td></tr>\n",
              "\t<tr><th scope=row>Residuals</th><td>236</td><td>3.5416163</td><td>0.01500685</td><td>      NA</td><td>          NA</td></tr>\n",
              "</tbody>\n",
              "</table>\n"
            ],
            "text/markdown": "\nA anova: 2 × 5\n\n| <!--/--> | Df &lt;int&gt; | Sum Sq &lt;dbl&gt; | Mean Sq &lt;dbl&gt; | F value &lt;dbl&gt; | Pr(&gt;F) &lt;dbl&gt; |\n|---|---|---|---|---|---|\n| Borough |   3 | 0.8646968 | 0.28823228 | 19.20672 | 3.534624e-11 |\n| Residuals | 236 | 3.5416163 | 0.01500685 |       NA |           NA |\n\n",
            "text/latex": "A anova: 2 × 5\n\\begin{tabular}{r|lllll}\n  & Df & Sum Sq & Mean Sq & F value & Pr(>F)\\\\\n  & <int> & <dbl> & <dbl> & <dbl> & <dbl>\\\\\n\\hline\n\tBorough &   3 & 0.8646968 & 0.28823228 & 19.20672 & 3.534624e-11\\\\\n\tResiduals & 236 & 3.5416163 & 0.01500685 &       NA &           NA\\\\\n\\end{tabular}\n",
            "text/plain": [
              "          Df  Sum Sq    Mean Sq    F value  Pr(>F)      \n",
              "Borough     3 0.8646968 0.28823228 19.20672 3.534624e-11\n",
              "Residuals 236 3.5416163 0.01500685       NA           NA"
            ]
          },
          "metadata": {}
        }
      ]
    },
    {
      "cell_type": "markdown",
      "source": [
        "## EFFECT SIZE"
      ],
      "metadata": {
        "id": "jrUs4GFZ6ywE"
      }
    },
    {
      "cell_type": "code",
      "source": [
        "BoroughSSbetween <- 0.86\n",
        "BoroughSSerror <- 3.54"
      ],
      "metadata": {
        "id": "b-CQzsP862us"
      },
      "execution_count": 207,
      "outputs": []
    },
    {
      "cell_type": "code",
      "source": [
        "BoroughR2 <- BoroughSSbetween / (BoroughSSbetween + BoroughSSerror)\n",
        "BoroughR2"
      ],
      "metadata": {
        "colab": {
          "base_uri": "https://localhost:8080/",
          "height": 34
        },
        "id": "Ps-zv0aZB67c",
        "outputId": "69d96406-cb67-4fc9-d561-72d017a800ba"
      },
      "execution_count": 208,
      "outputs": [
        {
          "output_type": "display_data",
          "data": {
            "text/html": [
              "0.195454545454545"
            ],
            "text/markdown": "0.195454545454545",
            "text/latex": "0.195454545454545",
            "text/plain": [
              "[1] 0.1954545"
            ]
          },
          "metadata": {}
        }
      ]
    },
    {
      "cell_type": "markdown",
      "source": [
        "## TUKEY'S HSD"
      ],
      "metadata": {
        "id": "UdToPB5563O-"
      }
    },
    {
      "cell_type": "code",
      "source": [
        "install.packages('emmeans')\n",
        "library(emmeans)"
      ],
      "metadata": {
        "colab": {
          "base_uri": "https://localhost:8080/"
        },
        "id": "vMsTK50Z6-Je",
        "outputId": "d6a2e355-b97f-4caa-84ad-eb399ad7a87b"
      },
      "execution_count": 202,
      "outputs": [
        {
          "output_type": "stream",
          "name": "stderr",
          "text": [
            "Installing package into ‘/usr/local/lib/R/site-library’\n",
            "(as ‘lib’ is unspecified)\n",
            "\n",
            "also installing the dependencies ‘estimability’, ‘mvtnorm’\n",
            "\n",
            "\n"
          ]
        }
      ]
    },
    {
      "cell_type": "code",
      "source": [
        "BoroughComparisonMeans <- emmeans(BoroughLm, ~Borough)\n",
        "contrast(BoroughComparisonMeans, method=\"pairwise\", adjust=\"Tukey\")"
      ],
      "metadata": {
        "colab": {
          "base_uri": "https://localhost:8080/",
          "height": 173
        },
        "id": "Hul72_6H7JtO",
        "outputId": "9436f50a-8530-4eb2-fd0a-85e8a805b696"
      },
      "execution_count": 205,
      "outputs": [
        {
          "output_type": "display_data",
          "data": {
            "text/plain": [
              " contrast             estimate     SE  df t.ratio p.value\n",
              " Bronx - Brooklyn      -0.0243 0.0224 236  -1.087  0.6980\n",
              " Bronx - Manhattan     -0.1244 0.0224 236  -5.562  <.0001\n",
              " Bronx - Queens        -0.1369 0.0224 236  -6.120  <.0001\n",
              " Brooklyn - Manhattan  -0.1001 0.0224 236  -4.475  0.0001\n",
              " Brooklyn - Queens     -0.1126 0.0224 236  -5.033  <.0001\n",
              " Manhattan - Queens    -0.0125 0.0224 236  -0.558  0.9444\n",
              "\n",
              "P value adjustment: tukey method for comparing a family of 4 estimates "
            ]
          },
          "metadata": {}
        }
      ]
    },
    {
      "cell_type": "markdown",
      "source": [
        "## POST ANALYSIS"
      ],
      "metadata": {
        "id": "EeMBXlhi924T"
      }
    },
    {
      "cell_type": "markdown",
      "source": [
        "A one-way ANOVA was used to determine whether there was a difference in the average total Score on the SAT among four boroughs in New York City(Bronx, Brooklyn, Queens, and Manhattan). As hypothesized, there was a statistically significant difference in the average SAT score among the four boroughs, F(3,236) = 19.21, p < .001. The size of the effect was R2\n",
        " = .20, a small effect, indicating 20% of the variance in total SAT score is explained by the borough a school is in. Post-hoc Tukey HSD tests indicate the average total SAT scores in Queens and Manhattan are statistically significantly greater than the average total SAT score in the Bronx and Brooklyn. While Queens schools have a higher total SAT score on average than Manhattan schools, their means were not statistically significant from each other. Further, while Brooklyn schools have a higher total SAT score on average than Bronx schools, their means were also not statistically significant from each other. See Descriptive Statistics for means and standard deviations."
      ],
      "metadata": {
        "id": "IQlFQGzG-A4h"
      }
    }
  ]
}